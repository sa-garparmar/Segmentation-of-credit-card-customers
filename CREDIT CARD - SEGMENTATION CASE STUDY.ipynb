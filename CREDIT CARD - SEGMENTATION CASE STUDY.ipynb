{
 "cells": [
  {
   "cell_type": "markdown",
   "metadata": {},
   "source": [
    "## Importing Libraries"
   ]
  },
  {
   "cell_type": "code",
   "execution_count": 1,
   "metadata": {},
   "outputs": [],
   "source": [
    "import pandas as pd\n",
    "import numpy as np\n",
    "from datetime import timedelta\n",
    "import seaborn as sns\n",
    "import matplotlib.pyplot as plt\n",
    "import statsmodels.formula.api as sn\n",
    "%matplotlib inline\n",
    "import scipy.stats as stats\n",
    "from datetime import datetime as dt"
   ]
  },
  {
   "cell_type": "markdown",
   "metadata": {},
   "source": [
    "## Importing Dataset"
   ]
  },
  {
   "cell_type": "code",
   "execution_count": 2,
   "metadata": {},
   "outputs": [],
   "source": [
    "credit = pd.read_csv('C:/Users/HP/Downloads/4. Segmentation of Credit Card Customers/CC_GENERAL.csv')"
   ]
  },
  {
   "cell_type": "code",
   "execution_count": 3,
   "metadata": {},
   "outputs": [
    {
     "name": "stdout",
     "output_type": "stream",
     "text": [
      "<class 'pandas.core.frame.DataFrame'>\n",
      "RangeIndex: 8950 entries, 0 to 8949\n",
      "Data columns (total 18 columns):\n",
      "CUST_ID                             8950 non-null object\n",
      "BALANCE                             8950 non-null float64\n",
      "BALANCE_FREQUENCY                   8950 non-null float64\n",
      "PURCHASES                           8950 non-null float64\n",
      "ONEOFF_PURCHASES                    8950 non-null float64\n",
      "INSTALLMENTS_PURCHASES              8950 non-null float64\n",
      "CASH_ADVANCE                        8950 non-null float64\n",
      "PURCHASES_FREQUENCY                 8950 non-null float64\n",
      "ONEOFF_PURCHASES_FREQUENCY          8950 non-null float64\n",
      "PURCHASES_INSTALLMENTS_FREQUENCY    8950 non-null float64\n",
      "CASH_ADVANCE_FREQUENCY              8950 non-null float64\n",
      "CASH_ADVANCE_TRX                    8950 non-null int64\n",
      "PURCHASES_TRX                       8950 non-null int64\n",
      "CREDIT_LIMIT                        8949 non-null float64\n",
      "PAYMENTS                            8950 non-null float64\n",
      "MINIMUM_PAYMENTS                    8637 non-null float64\n",
      "PRC_FULL_PAYMENT                    8950 non-null float64\n",
      "TENURE                              8950 non-null int64\n",
      "dtypes: float64(14), int64(3), object(1)\n",
      "memory usage: 1.2+ MB\n"
     ]
    }
   ],
   "source": [
    "credit.info()"
   ]
  },
  {
   "cell_type": "code",
   "execution_count": 4,
   "metadata": {},
   "outputs": [
    {
     "data": {
      "text/plain": [
       "CUST_ID                               0\n",
       "BALANCE                               0\n",
       "BALANCE_FREQUENCY                     0\n",
       "PURCHASES                             0\n",
       "ONEOFF_PURCHASES                      0\n",
       "INSTALLMENTS_PURCHASES                0\n",
       "CASH_ADVANCE                          0\n",
       "PURCHASES_FREQUENCY                   0\n",
       "ONEOFF_PURCHASES_FREQUENCY            0\n",
       "PURCHASES_INSTALLMENTS_FREQUENCY      0\n",
       "CASH_ADVANCE_FREQUENCY                0\n",
       "CASH_ADVANCE_TRX                      0\n",
       "PURCHASES_TRX                         0\n",
       "CREDIT_LIMIT                          1\n",
       "PAYMENTS                              0\n",
       "MINIMUM_PAYMENTS                    313\n",
       "PRC_FULL_PAYMENT                      0\n",
       "TENURE                                0\n",
       "dtype: int64"
      ]
     },
     "execution_count": 4,
     "metadata": {},
     "output_type": "execute_result"
    }
   ],
   "source": [
    "credit.isna().sum() #We have missing values in two columns"
   ]
  },
  {
   "cell_type": "code",
   "execution_count": 5,
   "metadata": {},
   "outputs": [
    {
     "data": {
      "text/plain": [
       "(8950, 18)"
      ]
     },
     "execution_count": 5,
     "metadata": {},
     "output_type": "execute_result"
    }
   ],
   "source": [
    "credit.shape"
   ]
  },
  {
   "cell_type": "code",
   "execution_count": 6,
   "metadata": {},
   "outputs": [
    {
     "data": {
      "text/html": [
       "<div>\n",
       "<style scoped>\n",
       "    .dataframe tbody tr th:only-of-type {\n",
       "        vertical-align: middle;\n",
       "    }\n",
       "\n",
       "    .dataframe tbody tr th {\n",
       "        vertical-align: top;\n",
       "    }\n",
       "\n",
       "    .dataframe thead th {\n",
       "        text-align: right;\n",
       "    }\n",
       "</style>\n",
       "<table border=\"1\" class=\"dataframe\">\n",
       "  <thead>\n",
       "    <tr style=\"text-align: right;\">\n",
       "      <th></th>\n",
       "      <th>BALANCE</th>\n",
       "      <th>BALANCE_FREQUENCY</th>\n",
       "      <th>PURCHASES</th>\n",
       "      <th>ONEOFF_PURCHASES</th>\n",
       "      <th>INSTALLMENTS_PURCHASES</th>\n",
       "      <th>CASH_ADVANCE</th>\n",
       "      <th>PURCHASES_FREQUENCY</th>\n",
       "      <th>ONEOFF_PURCHASES_FREQUENCY</th>\n",
       "      <th>PURCHASES_INSTALLMENTS_FREQUENCY</th>\n",
       "      <th>CASH_ADVANCE_FREQUENCY</th>\n",
       "      <th>CASH_ADVANCE_TRX</th>\n",
       "      <th>PURCHASES_TRX</th>\n",
       "      <th>CREDIT_LIMIT</th>\n",
       "      <th>PAYMENTS</th>\n",
       "      <th>MINIMUM_PAYMENTS</th>\n",
       "      <th>PRC_FULL_PAYMENT</th>\n",
       "      <th>TENURE</th>\n",
       "    </tr>\n",
       "  </thead>\n",
       "  <tbody>\n",
       "    <tr>\n",
       "      <th>count</th>\n",
       "      <td>8950.000000</td>\n",
       "      <td>8950.000000</td>\n",
       "      <td>8950.000000</td>\n",
       "      <td>8950.000000</td>\n",
       "      <td>8950.000000</td>\n",
       "      <td>8950.000000</td>\n",
       "      <td>8950.000000</td>\n",
       "      <td>8950.000000</td>\n",
       "      <td>8950.000000</td>\n",
       "      <td>8950.000000</td>\n",
       "      <td>8950.000000</td>\n",
       "      <td>8950.000000</td>\n",
       "      <td>8949.000000</td>\n",
       "      <td>8950.000000</td>\n",
       "      <td>8637.000000</td>\n",
       "      <td>8950.000000</td>\n",
       "      <td>8950.000000</td>\n",
       "    </tr>\n",
       "    <tr>\n",
       "      <th>mean</th>\n",
       "      <td>1564.474828</td>\n",
       "      <td>0.877271</td>\n",
       "      <td>1003.204834</td>\n",
       "      <td>592.437371</td>\n",
       "      <td>411.067645</td>\n",
       "      <td>978.871112</td>\n",
       "      <td>0.490351</td>\n",
       "      <td>0.202458</td>\n",
       "      <td>0.364437</td>\n",
       "      <td>0.135144</td>\n",
       "      <td>3.248827</td>\n",
       "      <td>14.709832</td>\n",
       "      <td>4494.449450</td>\n",
       "      <td>1733.143852</td>\n",
       "      <td>864.206542</td>\n",
       "      <td>0.153715</td>\n",
       "      <td>11.517318</td>\n",
       "    </tr>\n",
       "    <tr>\n",
       "      <th>std</th>\n",
       "      <td>2081.531879</td>\n",
       "      <td>0.236904</td>\n",
       "      <td>2136.634782</td>\n",
       "      <td>1659.887917</td>\n",
       "      <td>904.338115</td>\n",
       "      <td>2097.163877</td>\n",
       "      <td>0.401371</td>\n",
       "      <td>0.298336</td>\n",
       "      <td>0.397448</td>\n",
       "      <td>0.200121</td>\n",
       "      <td>6.824647</td>\n",
       "      <td>24.857649</td>\n",
       "      <td>3638.815725</td>\n",
       "      <td>2895.063757</td>\n",
       "      <td>2372.446607</td>\n",
       "      <td>0.292499</td>\n",
       "      <td>1.338331</td>\n",
       "    </tr>\n",
       "    <tr>\n",
       "      <th>min</th>\n",
       "      <td>0.000000</td>\n",
       "      <td>0.000000</td>\n",
       "      <td>0.000000</td>\n",
       "      <td>0.000000</td>\n",
       "      <td>0.000000</td>\n",
       "      <td>0.000000</td>\n",
       "      <td>0.000000</td>\n",
       "      <td>0.000000</td>\n",
       "      <td>0.000000</td>\n",
       "      <td>0.000000</td>\n",
       "      <td>0.000000</td>\n",
       "      <td>0.000000</td>\n",
       "      <td>50.000000</td>\n",
       "      <td>0.000000</td>\n",
       "      <td>0.019163</td>\n",
       "      <td>0.000000</td>\n",
       "      <td>6.000000</td>\n",
       "    </tr>\n",
       "    <tr>\n",
       "      <th>25%</th>\n",
       "      <td>128.281915</td>\n",
       "      <td>0.888889</td>\n",
       "      <td>39.635000</td>\n",
       "      <td>0.000000</td>\n",
       "      <td>0.000000</td>\n",
       "      <td>0.000000</td>\n",
       "      <td>0.083333</td>\n",
       "      <td>0.000000</td>\n",
       "      <td>0.000000</td>\n",
       "      <td>0.000000</td>\n",
       "      <td>0.000000</td>\n",
       "      <td>1.000000</td>\n",
       "      <td>1600.000000</td>\n",
       "      <td>383.276166</td>\n",
       "      <td>169.123707</td>\n",
       "      <td>0.000000</td>\n",
       "      <td>12.000000</td>\n",
       "    </tr>\n",
       "    <tr>\n",
       "      <th>50%</th>\n",
       "      <td>873.385231</td>\n",
       "      <td>1.000000</td>\n",
       "      <td>361.280000</td>\n",
       "      <td>38.000000</td>\n",
       "      <td>89.000000</td>\n",
       "      <td>0.000000</td>\n",
       "      <td>0.500000</td>\n",
       "      <td>0.083333</td>\n",
       "      <td>0.166667</td>\n",
       "      <td>0.000000</td>\n",
       "      <td>0.000000</td>\n",
       "      <td>7.000000</td>\n",
       "      <td>3000.000000</td>\n",
       "      <td>856.901546</td>\n",
       "      <td>312.343947</td>\n",
       "      <td>0.000000</td>\n",
       "      <td>12.000000</td>\n",
       "    </tr>\n",
       "    <tr>\n",
       "      <th>75%</th>\n",
       "      <td>2054.140036</td>\n",
       "      <td>1.000000</td>\n",
       "      <td>1110.130000</td>\n",
       "      <td>577.405000</td>\n",
       "      <td>468.637500</td>\n",
       "      <td>1113.821139</td>\n",
       "      <td>0.916667</td>\n",
       "      <td>0.300000</td>\n",
       "      <td>0.750000</td>\n",
       "      <td>0.222222</td>\n",
       "      <td>4.000000</td>\n",
       "      <td>17.000000</td>\n",
       "      <td>6500.000000</td>\n",
       "      <td>1901.134317</td>\n",
       "      <td>825.485459</td>\n",
       "      <td>0.142857</td>\n",
       "      <td>12.000000</td>\n",
       "    </tr>\n",
       "    <tr>\n",
       "      <th>max</th>\n",
       "      <td>19043.138560</td>\n",
       "      <td>1.000000</td>\n",
       "      <td>49039.570000</td>\n",
       "      <td>40761.250000</td>\n",
       "      <td>22500.000000</td>\n",
       "      <td>47137.211760</td>\n",
       "      <td>1.000000</td>\n",
       "      <td>1.000000</td>\n",
       "      <td>1.000000</td>\n",
       "      <td>1.500000</td>\n",
       "      <td>123.000000</td>\n",
       "      <td>358.000000</td>\n",
       "      <td>30000.000000</td>\n",
       "      <td>50721.483360</td>\n",
       "      <td>76406.207520</td>\n",
       "      <td>1.000000</td>\n",
       "      <td>12.000000</td>\n",
       "    </tr>\n",
       "  </tbody>\n",
       "</table>\n",
       "</div>"
      ],
      "text/plain": [
       "            BALANCE  BALANCE_FREQUENCY     PURCHASES  ONEOFF_PURCHASES  \\\n",
       "count   8950.000000        8950.000000   8950.000000       8950.000000   \n",
       "mean    1564.474828           0.877271   1003.204834        592.437371   \n",
       "std     2081.531879           0.236904   2136.634782       1659.887917   \n",
       "min        0.000000           0.000000      0.000000          0.000000   \n",
       "25%      128.281915           0.888889     39.635000          0.000000   \n",
       "50%      873.385231           1.000000    361.280000         38.000000   \n",
       "75%     2054.140036           1.000000   1110.130000        577.405000   \n",
       "max    19043.138560           1.000000  49039.570000      40761.250000   \n",
       "\n",
       "       INSTALLMENTS_PURCHASES  CASH_ADVANCE  PURCHASES_FREQUENCY  \\\n",
       "count             8950.000000   8950.000000          8950.000000   \n",
       "mean               411.067645    978.871112             0.490351   \n",
       "std                904.338115   2097.163877             0.401371   \n",
       "min                  0.000000      0.000000             0.000000   \n",
       "25%                  0.000000      0.000000             0.083333   \n",
       "50%                 89.000000      0.000000             0.500000   \n",
       "75%                468.637500   1113.821139             0.916667   \n",
       "max              22500.000000  47137.211760             1.000000   \n",
       "\n",
       "       ONEOFF_PURCHASES_FREQUENCY  PURCHASES_INSTALLMENTS_FREQUENCY  \\\n",
       "count                 8950.000000                       8950.000000   \n",
       "mean                     0.202458                          0.364437   \n",
       "std                      0.298336                          0.397448   \n",
       "min                      0.000000                          0.000000   \n",
       "25%                      0.000000                          0.000000   \n",
       "50%                      0.083333                          0.166667   \n",
       "75%                      0.300000                          0.750000   \n",
       "max                      1.000000                          1.000000   \n",
       "\n",
       "       CASH_ADVANCE_FREQUENCY  CASH_ADVANCE_TRX  PURCHASES_TRX  CREDIT_LIMIT  \\\n",
       "count             8950.000000       8950.000000    8950.000000   8949.000000   \n",
       "mean                 0.135144          3.248827      14.709832   4494.449450   \n",
       "std                  0.200121          6.824647      24.857649   3638.815725   \n",
       "min                  0.000000          0.000000       0.000000     50.000000   \n",
       "25%                  0.000000          0.000000       1.000000   1600.000000   \n",
       "50%                  0.000000          0.000000       7.000000   3000.000000   \n",
       "75%                  0.222222          4.000000      17.000000   6500.000000   \n",
       "max                  1.500000        123.000000     358.000000  30000.000000   \n",
       "\n",
       "           PAYMENTS  MINIMUM_PAYMENTS  PRC_FULL_PAYMENT       TENURE  \n",
       "count   8950.000000       8637.000000       8950.000000  8950.000000  \n",
       "mean    1733.143852        864.206542          0.153715    11.517318  \n",
       "std     2895.063757       2372.446607          0.292499     1.338331  \n",
       "min        0.000000          0.019163          0.000000     6.000000  \n",
       "25%      383.276166        169.123707          0.000000    12.000000  \n",
       "50%      856.901546        312.343947          0.000000    12.000000  \n",
       "75%     1901.134317        825.485459          0.142857    12.000000  \n",
       "max    50721.483360      76406.207520          1.000000    12.000000  "
      ]
     },
     "execution_count": 6,
     "metadata": {},
     "output_type": "execute_result"
    }
   ],
   "source": [
    "credit.describe()"
   ]
  },
  {
   "cell_type": "markdown",
   "metadata": {},
   "source": [
    "## Treating missing Values"
   ]
  },
  {
   "cell_type": "code",
   "execution_count": 7,
   "metadata": {},
   "outputs": [],
   "source": [
    "credit['CREDIT_LIMIT'].fillna(credit['CREDIT_LIMIT'].median(),inplace=True)"
   ]
  },
  {
   "cell_type": "code",
   "execution_count": 8,
   "metadata": {},
   "outputs": [],
   "source": [
    "credit['MINIMUM_PAYMENTS'].fillna(credit['MINIMUM_PAYMENTS'].median(),inplace=True)"
   ]
  },
  {
   "cell_type": "code",
   "execution_count": 9,
   "metadata": {},
   "outputs": [
    {
     "data": {
      "text/plain": [
       "CUST_ID                             0\n",
       "BALANCE                             0\n",
       "BALANCE_FREQUENCY                   0\n",
       "PURCHASES                           0\n",
       "ONEOFF_PURCHASES                    0\n",
       "INSTALLMENTS_PURCHASES              0\n",
       "CASH_ADVANCE                        0\n",
       "PURCHASES_FREQUENCY                 0\n",
       "ONEOFF_PURCHASES_FREQUENCY          0\n",
       "PURCHASES_INSTALLMENTS_FREQUENCY    0\n",
       "CASH_ADVANCE_FREQUENCY              0\n",
       "CASH_ADVANCE_TRX                    0\n",
       "PURCHASES_TRX                       0\n",
       "CREDIT_LIMIT                        0\n",
       "PAYMENTS                            0\n",
       "MINIMUM_PAYMENTS                    0\n",
       "PRC_FULL_PAYMENT                    0\n",
       "TENURE                              0\n",
       "dtype: int64"
      ]
     },
     "execution_count": 9,
     "metadata": {},
     "output_type": "execute_result"
    }
   ],
   "source": [
    "credit.isna().sum() #Now we do not have"
   ]
  },
  {
   "cell_type": "markdown",
   "metadata": {},
   "source": [
    "## Making new KPIs"
   ]
  },
  {
   "cell_type": "code",
   "execution_count": 10,
   "metadata": {},
   "outputs": [],
   "source": [
    "credit['Monthly_avg_purchase']=credit['PURCHASES']/credit['TENURE']"
   ]
  },
  {
   "cell_type": "code",
   "execution_count": 11,
   "metadata": {},
   "outputs": [],
   "source": [
    "credit['Monthly_cash_advance']=credit['CASH_ADVANCE']/credit['TENURE']"
   ]
  },
  {
   "cell_type": "code",
   "execution_count": 12,
   "metadata": {},
   "outputs": [
    {
     "data": {
      "text/plain": [
       "4302"
      ]
     },
     "execution_count": 12,
     "metadata": {},
     "output_type": "execute_result"
    }
   ],
   "source": [
    "credit[credit['ONEOFF_PURCHASES']==0].ONEOFF_PURCHASES.count()"
   ]
  },
  {
   "cell_type": "code",
   "execution_count": 13,
   "metadata": {},
   "outputs": [],
   "source": [
    "credit['limit_usage']=credit['BALANCE']/credit['CREDIT_LIMIT']"
   ]
  },
  {
   "cell_type": "code",
   "execution_count": 14,
   "metadata": {},
   "outputs": [
    {
     "data": {
      "text/plain": [
       "0    0.040901\n",
       "1    0.457495\n",
       "2    0.332687\n",
       "3    0.222223\n",
       "4    0.681429\n",
       "Name: limit_usage, dtype: float64"
      ]
     },
     "execution_count": 14,
     "metadata": {},
     "output_type": "execute_result"
    }
   ],
   "source": [
    "credit['limit_usage'].head()"
   ]
  },
  {
   "cell_type": "code",
   "execution_count": 15,
   "metadata": {},
   "outputs": [],
   "source": [
    "def purchase(credit):\n",
    "    if (credit['ONEOFF_PURCHASES'] == 0) & (credit['INSTALLMENTS_PURCHASES'] == 0):\n",
    "        return 'none'\n",
    "    if (credit['ONEOFF_PURCHASES'] > 0) & (credit['INSTALLMENTS_PURCHASES'] > 0):\n",
    "         return 'both_oneoff_installment'\n",
    "    if (credit['ONEOFF_PURCHASES'] > 0) & (credit['INSTALLMENTS_PURCHASES'] == 0):\n",
    "        return 'one_off'\n",
    "    if (credit['ONEOFF_PURCHASES'] ==0) & (credit['INSTALLMENTS_PURCHASES'] > 0):\n",
    "        return 'installment'"
   ]
  },
  {
   "cell_type": "code",
   "execution_count": 16,
   "metadata": {},
   "outputs": [],
   "source": [
    "credit['purchase_type'] = credit.apply(purchase , axis=1)"
   ]
  },
  {
   "cell_type": "code",
   "execution_count": 17,
   "metadata": {},
   "outputs": [
    {
     "data": {
      "text/plain": [
       "(8950, 22)"
      ]
     },
     "execution_count": 17,
     "metadata": {},
     "output_type": "execute_result"
    }
   ],
   "source": [
    "credit.shape"
   ]
  },
  {
   "cell_type": "code",
   "execution_count": 18,
   "metadata": {},
   "outputs": [
    {
     "data": {
      "text/plain": [
       "both_oneoff_installment    2774\n",
       "installment                2260\n",
       "none                       2042\n",
       "one_off                    1874\n",
       "Name: purchase_type, dtype: int64"
      ]
     },
     "execution_count": 18,
     "metadata": {},
     "output_type": "execute_result"
    }
   ],
   "source": [
    "credit['purchase_type'].value_counts()"
   ]
  },
  {
   "cell_type": "code",
   "execution_count": 19,
   "metadata": {},
   "outputs": [
    {
     "data": {
      "text/plain": [
       "Index(['CUST_ID', 'BALANCE', 'BALANCE_FREQUENCY', 'PURCHASES',\n",
       "       'ONEOFF_PURCHASES', 'INSTALLMENTS_PURCHASES', 'CASH_ADVANCE',\n",
       "       'PURCHASES_FREQUENCY', 'ONEOFF_PURCHASES_FREQUENCY',\n",
       "       'PURCHASES_INSTALLMENTS_FREQUENCY', 'CASH_ADVANCE_FREQUENCY',\n",
       "       'CASH_ADVANCE_TRX', 'PURCHASES_TRX', 'CREDIT_LIMIT', 'PAYMENTS',\n",
       "       'MINIMUM_PAYMENTS', 'PRC_FULL_PAYMENT', 'TENURE',\n",
       "       'Monthly_avg_purchase', 'Monthly_cash_advance', 'limit_usage',\n",
       "       'purchase_type'],\n",
       "      dtype='object')"
      ]
     },
     "execution_count": 19,
     "metadata": {},
     "output_type": "execute_result"
    }
   ],
   "source": [
    "credit.columns"
   ]
  },
  {
   "cell_type": "code",
   "execution_count": 20,
   "metadata": {},
   "outputs": [
    {
     "data": {
      "text/plain": [
       "False    8950\n",
       "Name: MINIMUM_PAYMENTS, dtype: int64"
      ]
     },
     "execution_count": 20,
     "metadata": {},
     "output_type": "execute_result"
    }
   ],
   "source": [
    "credit['MINIMUM_PAYMENTS'].isnull().value_counts()"
   ]
  },
  {
   "cell_type": "code",
   "execution_count": 21,
   "metadata": {},
   "outputs": [],
   "source": [
    "credit['payment_minpay'] = credit.apply(lambda x:x['PAYMENTS'] / x['MINIMUM_PAYMENTS'] , axis = 1)"
   ]
  },
  {
   "cell_type": "code",
   "execution_count": 22,
   "metadata": {},
   "outputs": [
    {
     "data": {
      "text/plain": [
       "0        1.446508\n",
       "1        3.826241\n",
       "2        0.991682\n",
       "3        0.000000\n",
       "4        2.771075\n",
       "5        0.581601\n",
       "6       32.081820\n",
       "7        1.276357\n",
       "8        2.206280\n",
       "9       11.612605\n",
       "10       0.498597\n",
       "11       4.536309\n",
       "12       1.240830\n",
       "13       6.593552\n",
       "14       0.813816\n",
       "15       0.944800\n",
       "16       1.040881\n",
       "17       3.477861\n",
       "18       2.311048\n",
       "19       0.084551\n",
       "20       0.016454\n",
       "21       1.251952\n",
       "22      27.332818\n",
       "23       6.649970\n",
       "24       0.858615\n",
       "25       1.320852\n",
       "26       0.916592\n",
       "27       1.261155\n",
       "28       0.971251\n",
       "29       1.006784\n",
       "          ...    \n",
       "8920     0.234940\n",
       "8921     3.304997\n",
       "8922     0.659354\n",
       "8923     1.985987\n",
       "8924     4.856447\n",
       "8925     5.191574\n",
       "8926    12.226247\n",
       "8927     2.678503\n",
       "8928     6.184871\n",
       "8929     0.000000\n",
       "8930     1.385733\n",
       "8931     2.112821\n",
       "8932     1.596541\n",
       "8933     0.314676\n",
       "8934     2.448965\n",
       "8935     0.000000\n",
       "8936     6.972789\n",
       "8937     1.936734\n",
       "8938    64.055621\n",
       "8939     0.653714\n",
       "8940     5.745025\n",
       "8941     1.120950\n",
       "8942     1.095102\n",
       "8943     1.348973\n",
       "8944     0.000000\n",
       "8945     6.660231\n",
       "8946     0.883197\n",
       "8947     0.986076\n",
       "8948     0.942505\n",
       "8949     0.715439\n",
       "Name: payment_minpay, Length: 8950, dtype: float64"
      ]
     },
     "execution_count": 22,
     "metadata": {},
     "output_type": "execute_result"
    }
   ],
   "source": [
    "credit['payment_minpay']"
   ]
  },
  {
   "cell_type": "markdown",
   "metadata": {},
   "source": [
    "## separating categorical & numerical columns"
   ]
  },
  {
   "cell_type": "code",
   "execution_count": 23,
   "metadata": {},
   "outputs": [
    {
     "name": "stdout",
     "output_type": "stream",
     "text": [
      "['BALANCE', 'BALANCE_FREQUENCY', 'PURCHASES', 'ONEOFF_PURCHASES', 'INSTALLMENTS_PURCHASES', 'CASH_ADVANCE', 'PURCHASES_FREQUENCY', 'ONEOFF_PURCHASES_FREQUENCY', 'PURCHASES_INSTALLMENTS_FREQUENCY', 'CASH_ADVANCE_FREQUENCY', 'CASH_ADVANCE_TRX', 'PURCHASES_TRX', 'CREDIT_LIMIT', 'PAYMENTS', 'MINIMUM_PAYMENTS', 'PRC_FULL_PAYMENT', 'TENURE', 'Monthly_avg_purchase', 'Monthly_cash_advance', 'limit_usage', 'payment_minpay']\n",
      "['CUST_ID', 'purchase_type']\n"
     ]
    }
   ],
   "source": [
    "numeric_var_names=[key for key in dict(credit.dtypes) if dict(credit.dtypes)[key] in ['float64', 'int64', 'float32', 'int32']]\n",
    "cat_var_names=[key for key in dict(credit.dtypes) if dict(credit.dtypes)[key] in ['object']]\n",
    "print(numeric_var_names)\n",
    "print(cat_var_names)"
   ]
  },
  {
   "cell_type": "code",
   "execution_count": 24,
   "metadata": {},
   "outputs": [],
   "source": [
    "credit_n = credit[numeric_var_names]"
   ]
  },
  {
   "cell_type": "code",
   "execution_count": 25,
   "metadata": {},
   "outputs": [],
   "source": [
    "def var_summary(x):\n",
    "    return pd.Series([x.count(), x.isnull().sum(), x.sum(), x.mean(), x.median(),  x.std(), x.var(), x.min(), x.dropna().quantile(0.01), \n",
    "                      x.dropna().quantile(0.05),x.dropna().quantile(0.10),x.dropna().quantile(0.25),x.dropna().quantile(0.50),x.dropna().quantile(0.75), \n",
    "                      x.dropna().quantile(0.90),x.dropna().quantile(0.95), x.dropna().quantile(0.99),x.max()], \n",
    "                  index=['N', 'NMISS', 'SUM', 'MEAN','MEDIAN', 'STD', 'VAR', 'MIN', 'P1' , 'P5' ,'P10' ,'P25' ,'P50' ,'P75' ,'P90' ,'P95' ,'P99' ,'MAX'])\n",
    "\n",
    "num_summary = credit_n.apply(var_summary)"
   ]
  },
  {
   "cell_type": "code",
   "execution_count": 26,
   "metadata": {},
   "outputs": [
    {
     "data": {
      "text/html": [
       "<div>\n",
       "<style scoped>\n",
       "    .dataframe tbody tr th:only-of-type {\n",
       "        vertical-align: middle;\n",
       "    }\n",
       "\n",
       "    .dataframe tbody tr th {\n",
       "        vertical-align: top;\n",
       "    }\n",
       "\n",
       "    .dataframe thead th {\n",
       "        text-align: right;\n",
       "    }\n",
       "</style>\n",
       "<table border=\"1\" class=\"dataframe\">\n",
       "  <thead>\n",
       "    <tr style=\"text-align: right;\">\n",
       "      <th></th>\n",
       "      <th>BALANCE</th>\n",
       "      <th>BALANCE_FREQUENCY</th>\n",
       "      <th>PURCHASES</th>\n",
       "      <th>ONEOFF_PURCHASES</th>\n",
       "      <th>INSTALLMENTS_PURCHASES</th>\n",
       "      <th>CASH_ADVANCE</th>\n",
       "      <th>PURCHASES_FREQUENCY</th>\n",
       "      <th>ONEOFF_PURCHASES_FREQUENCY</th>\n",
       "      <th>PURCHASES_INSTALLMENTS_FREQUENCY</th>\n",
       "      <th>CASH_ADVANCE_FREQUENCY</th>\n",
       "      <th>...</th>\n",
       "      <th>PURCHASES_TRX</th>\n",
       "      <th>CREDIT_LIMIT</th>\n",
       "      <th>PAYMENTS</th>\n",
       "      <th>MINIMUM_PAYMENTS</th>\n",
       "      <th>PRC_FULL_PAYMENT</th>\n",
       "      <th>TENURE</th>\n",
       "      <th>Monthly_avg_purchase</th>\n",
       "      <th>Monthly_cash_advance</th>\n",
       "      <th>limit_usage</th>\n",
       "      <th>payment_minpay</th>\n",
       "    </tr>\n",
       "  </thead>\n",
       "  <tbody>\n",
       "    <tr>\n",
       "      <th>N</th>\n",
       "      <td>8.950000e+03</td>\n",
       "      <td>8950.000000</td>\n",
       "      <td>8.950000e+03</td>\n",
       "      <td>8.950000e+03</td>\n",
       "      <td>8.950000e+03</td>\n",
       "      <td>8.950000e+03</td>\n",
       "      <td>8950.000000</td>\n",
       "      <td>8950.000000</td>\n",
       "      <td>8950.000000</td>\n",
       "      <td>8950.000000</td>\n",
       "      <td>...</td>\n",
       "      <td>8950.000000</td>\n",
       "      <td>8.950000e+03</td>\n",
       "      <td>8.950000e+03</td>\n",
       "      <td>8.950000e+03</td>\n",
       "      <td>8950.000000</td>\n",
       "      <td>8950.000000</td>\n",
       "      <td>8950.000000</td>\n",
       "      <td>8950.000000</td>\n",
       "      <td>8950.000000</td>\n",
       "      <td>8950.000000</td>\n",
       "    </tr>\n",
       "    <tr>\n",
       "      <th>NMISS</th>\n",
       "      <td>0.000000e+00</td>\n",
       "      <td>0.000000</td>\n",
       "      <td>0.000000e+00</td>\n",
       "      <td>0.000000e+00</td>\n",
       "      <td>0.000000e+00</td>\n",
       "      <td>0.000000e+00</td>\n",
       "      <td>0.000000</td>\n",
       "      <td>0.000000</td>\n",
       "      <td>0.000000</td>\n",
       "      <td>0.000000</td>\n",
       "      <td>...</td>\n",
       "      <td>0.000000</td>\n",
       "      <td>0.000000e+00</td>\n",
       "      <td>0.000000e+00</td>\n",
       "      <td>0.000000e+00</td>\n",
       "      <td>0.000000</td>\n",
       "      <td>0.000000</td>\n",
       "      <td>0.000000</td>\n",
       "      <td>0.000000</td>\n",
       "      <td>0.000000</td>\n",
       "      <td>0.000000</td>\n",
       "    </tr>\n",
       "    <tr>\n",
       "      <th>SUM</th>\n",
       "      <td>1.400205e+07</td>\n",
       "      <td>7851.572994</td>\n",
       "      <td>8.978683e+06</td>\n",
       "      <td>5.302314e+06</td>\n",
       "      <td>3.679055e+06</td>\n",
       "      <td>8.760896e+06</td>\n",
       "      <td>4388.637408</td>\n",
       "      <td>1811.996268</td>\n",
       "      <td>3261.714207</td>\n",
       "      <td>1209.540593</td>\n",
       "      <td>...</td>\n",
       "      <td>131653.000000</td>\n",
       "      <td>4.022383e+07</td>\n",
       "      <td>1.551164e+07</td>\n",
       "      <td>7.561916e+06</td>\n",
       "      <td>1375.746104</td>\n",
       "      <td>103080.000000</td>\n",
       "      <td>771267.797313</td>\n",
       "      <td>796352.953935</td>\n",
       "      <td>3480.508567</td>\n",
       "      <td>81079.518764</td>\n",
       "    </tr>\n",
       "    <tr>\n",
       "      <th>MEAN</th>\n",
       "      <td>1.564475e+03</td>\n",
       "      <td>0.877271</td>\n",
       "      <td>1.003205e+03</td>\n",
       "      <td>5.924374e+02</td>\n",
       "      <td>4.110676e+02</td>\n",
       "      <td>9.788711e+02</td>\n",
       "      <td>0.490351</td>\n",
       "      <td>0.202458</td>\n",
       "      <td>0.364437</td>\n",
       "      <td>0.135144</td>\n",
       "      <td>...</td>\n",
       "      <td>14.709832</td>\n",
       "      <td>4.494282e+03</td>\n",
       "      <td>1.733144e+03</td>\n",
       "      <td>8.449068e+02</td>\n",
       "      <td>0.153715</td>\n",
       "      <td>11.517318</td>\n",
       "      <td>86.175173</td>\n",
       "      <td>88.977984</td>\n",
       "      <td>0.388884</td>\n",
       "      <td>9.059164</td>\n",
       "    </tr>\n",
       "    <tr>\n",
       "      <th>MEDIAN</th>\n",
       "      <td>8.733852e+02</td>\n",
       "      <td>1.000000</td>\n",
       "      <td>3.612800e+02</td>\n",
       "      <td>3.800000e+01</td>\n",
       "      <td>8.900000e+01</td>\n",
       "      <td>0.000000e+00</td>\n",
       "      <td>0.500000</td>\n",
       "      <td>0.083333</td>\n",
       "      <td>0.166667</td>\n",
       "      <td>0.000000</td>\n",
       "      <td>...</td>\n",
       "      <td>7.000000</td>\n",
       "      <td>3.000000e+03</td>\n",
       "      <td>8.569015e+02</td>\n",
       "      <td>3.123439e+02</td>\n",
       "      <td>0.000000</td>\n",
       "      <td>12.000000</td>\n",
       "      <td>31.936667</td>\n",
       "      <td>0.000000</td>\n",
       "      <td>0.302720</td>\n",
       "      <td>2.032717</td>\n",
       "    </tr>\n",
       "    <tr>\n",
       "      <th>STD</th>\n",
       "      <td>2.081532e+03</td>\n",
       "      <td>0.236904</td>\n",
       "      <td>2.136635e+03</td>\n",
       "      <td>1.659888e+03</td>\n",
       "      <td>9.043381e+02</td>\n",
       "      <td>2.097164e+03</td>\n",
       "      <td>0.401371</td>\n",
       "      <td>0.298336</td>\n",
       "      <td>0.397448</td>\n",
       "      <td>0.200121</td>\n",
       "      <td>...</td>\n",
       "      <td>24.857649</td>\n",
       "      <td>3.638647e+03</td>\n",
       "      <td>2.895064e+03</td>\n",
       "      <td>2.332792e+03</td>\n",
       "      <td>0.292499</td>\n",
       "      <td>1.338331</td>\n",
       "      <td>180.508787</td>\n",
       "      <td>193.136115</td>\n",
       "      <td>0.389722</td>\n",
       "      <td>118.180526</td>\n",
       "    </tr>\n",
       "    <tr>\n",
       "      <th>VAR</th>\n",
       "      <td>4.332775e+06</td>\n",
       "      <td>0.056124</td>\n",
       "      <td>4.565208e+06</td>\n",
       "      <td>2.755228e+06</td>\n",
       "      <td>8.178274e+05</td>\n",
       "      <td>4.398096e+06</td>\n",
       "      <td>0.161098</td>\n",
       "      <td>0.089004</td>\n",
       "      <td>0.157965</td>\n",
       "      <td>0.040049</td>\n",
       "      <td>...</td>\n",
       "      <td>617.902719</td>\n",
       "      <td>1.323975e+07</td>\n",
       "      <td>8.381394e+06</td>\n",
       "      <td>5.441920e+06</td>\n",
       "      <td>0.085556</td>\n",
       "      <td>1.791129</td>\n",
       "      <td>32583.422024</td>\n",
       "      <td>37301.558819</td>\n",
       "      <td>0.151883</td>\n",
       "      <td>13966.636633</td>\n",
       "    </tr>\n",
       "    <tr>\n",
       "      <th>MIN</th>\n",
       "      <td>0.000000e+00</td>\n",
       "      <td>0.000000</td>\n",
       "      <td>0.000000e+00</td>\n",
       "      <td>0.000000e+00</td>\n",
       "      <td>0.000000e+00</td>\n",
       "      <td>0.000000e+00</td>\n",
       "      <td>0.000000</td>\n",
       "      <td>0.000000</td>\n",
       "      <td>0.000000</td>\n",
       "      <td>0.000000</td>\n",
       "      <td>...</td>\n",
       "      <td>0.000000</td>\n",
       "      <td>5.000000e+01</td>\n",
       "      <td>0.000000e+00</td>\n",
       "      <td>1.916300e-02</td>\n",
       "      <td>0.000000</td>\n",
       "      <td>6.000000</td>\n",
       "      <td>0.000000</td>\n",
       "      <td>0.000000</td>\n",
       "      <td>0.000000</td>\n",
       "      <td>0.000000</td>\n",
       "    </tr>\n",
       "    <tr>\n",
       "      <th>P1</th>\n",
       "      <td>6.510059e-02</td>\n",
       "      <td>0.090909</td>\n",
       "      <td>0.000000e+00</td>\n",
       "      <td>0.000000e+00</td>\n",
       "      <td>0.000000e+00</td>\n",
       "      <td>0.000000e+00</td>\n",
       "      <td>0.000000</td>\n",
       "      <td>0.000000</td>\n",
       "      <td>0.000000</td>\n",
       "      <td>0.000000</td>\n",
       "      <td>...</td>\n",
       "      <td>0.000000</td>\n",
       "      <td>5.000000e+02</td>\n",
       "      <td>0.000000e+00</td>\n",
       "      <td>2.004061e+01</td>\n",
       "      <td>0.000000</td>\n",
       "      <td>6.000000</td>\n",
       "      <td>0.000000</td>\n",
       "      <td>0.000000</td>\n",
       "      <td>0.000029</td>\n",
       "      <td>0.000000</td>\n",
       "    </tr>\n",
       "    <tr>\n",
       "      <th>P5</th>\n",
       "      <td>8.814518e+00</td>\n",
       "      <td>0.272727</td>\n",
       "      <td>0.000000e+00</td>\n",
       "      <td>0.000000e+00</td>\n",
       "      <td>0.000000e+00</td>\n",
       "      <td>0.000000e+00</td>\n",
       "      <td>0.000000</td>\n",
       "      <td>0.000000</td>\n",
       "      <td>0.000000</td>\n",
       "      <td>0.000000</td>\n",
       "      <td>...</td>\n",
       "      <td>0.000000</td>\n",
       "      <td>1.000000e+03</td>\n",
       "      <td>8.998892e+01</td>\n",
       "      <td>7.464412e+01</td>\n",
       "      <td>0.000000</td>\n",
       "      <td>8.000000</td>\n",
       "      <td>0.000000</td>\n",
       "      <td>0.000000</td>\n",
       "      <td>0.002943</td>\n",
       "      <td>0.277366</td>\n",
       "    </tr>\n",
       "    <tr>\n",
       "      <th>P10</th>\n",
       "      <td>2.357553e+01</td>\n",
       "      <td>0.454545</td>\n",
       "      <td>0.000000e+00</td>\n",
       "      <td>0.000000e+00</td>\n",
       "      <td>0.000000e+00</td>\n",
       "      <td>0.000000e+00</td>\n",
       "      <td>0.000000</td>\n",
       "      <td>0.000000</td>\n",
       "      <td>0.000000</td>\n",
       "      <td>0.000000</td>\n",
       "      <td>...</td>\n",
       "      <td>0.000000</td>\n",
       "      <td>1.200000e+03</td>\n",
       "      <td>1.796171e+02</td>\n",
       "      <td>1.091313e+02</td>\n",
       "      <td>0.000000</td>\n",
       "      <td>10.000000</td>\n",
       "      <td>0.000000</td>\n",
       "      <td>0.000000</td>\n",
       "      <td>0.007789</td>\n",
       "      <td>0.535496</td>\n",
       "    </tr>\n",
       "    <tr>\n",
       "      <th>P25</th>\n",
       "      <td>1.282819e+02</td>\n",
       "      <td>0.888889</td>\n",
       "      <td>3.963500e+01</td>\n",
       "      <td>0.000000e+00</td>\n",
       "      <td>0.000000e+00</td>\n",
       "      <td>0.000000e+00</td>\n",
       "      <td>0.083333</td>\n",
       "      <td>0.000000</td>\n",
       "      <td>0.000000</td>\n",
       "      <td>0.000000</td>\n",
       "      <td>...</td>\n",
       "      <td>1.000000</td>\n",
       "      <td>1.600000e+03</td>\n",
       "      <td>3.832762e+02</td>\n",
       "      <td>1.708577e+02</td>\n",
       "      <td>0.000000</td>\n",
       "      <td>12.000000</td>\n",
       "      <td>3.399375</td>\n",
       "      <td>0.000000</td>\n",
       "      <td>0.041494</td>\n",
       "      <td>0.913275</td>\n",
       "    </tr>\n",
       "    <tr>\n",
       "      <th>P50</th>\n",
       "      <td>8.733852e+02</td>\n",
       "      <td>1.000000</td>\n",
       "      <td>3.612800e+02</td>\n",
       "      <td>3.800000e+01</td>\n",
       "      <td>8.900000e+01</td>\n",
       "      <td>0.000000e+00</td>\n",
       "      <td>0.500000</td>\n",
       "      <td>0.083333</td>\n",
       "      <td>0.166667</td>\n",
       "      <td>0.000000</td>\n",
       "      <td>...</td>\n",
       "      <td>7.000000</td>\n",
       "      <td>3.000000e+03</td>\n",
       "      <td>8.569015e+02</td>\n",
       "      <td>3.123439e+02</td>\n",
       "      <td>0.000000</td>\n",
       "      <td>12.000000</td>\n",
       "      <td>31.936667</td>\n",
       "      <td>0.000000</td>\n",
       "      <td>0.302720</td>\n",
       "      <td>2.032717</td>\n",
       "    </tr>\n",
       "    <tr>\n",
       "      <th>P75</th>\n",
       "      <td>2.054140e+03</td>\n",
       "      <td>1.000000</td>\n",
       "      <td>1.110130e+03</td>\n",
       "      <td>5.774050e+02</td>\n",
       "      <td>4.686375e+02</td>\n",
       "      <td>1.113821e+03</td>\n",
       "      <td>0.916667</td>\n",
       "      <td>0.300000</td>\n",
       "      <td>0.750000</td>\n",
       "      <td>0.222222</td>\n",
       "      <td>...</td>\n",
       "      <td>17.000000</td>\n",
       "      <td>6.500000e+03</td>\n",
       "      <td>1.901134e+03</td>\n",
       "      <td>7.887135e+02</td>\n",
       "      <td>0.142857</td>\n",
       "      <td>12.000000</td>\n",
       "      <td>97.228333</td>\n",
       "      <td>99.085196</td>\n",
       "      <td>0.717571</td>\n",
       "      <td>6.052729</td>\n",
       "    </tr>\n",
       "    <tr>\n",
       "      <th>P90</th>\n",
       "      <td>4.338564e+03</td>\n",
       "      <td>1.000000</td>\n",
       "      <td>2.542624e+03</td>\n",
       "      <td>1.600099e+03</td>\n",
       "      <td>1.140070e+03</td>\n",
       "      <td>3.065535e+03</td>\n",
       "      <td>1.000000</td>\n",
       "      <td>0.750000</td>\n",
       "      <td>1.000000</td>\n",
       "      <td>0.416667</td>\n",
       "      <td>...</td>\n",
       "      <td>37.000000</td>\n",
       "      <td>9.500000e+03</td>\n",
       "      <td>3.923907e+03</td>\n",
       "      <td>1.731690e+03</td>\n",
       "      <td>0.670000</td>\n",
       "      <td>12.000000</td>\n",
       "      <td>217.353917</td>\n",
       "      <td>278.058470</td>\n",
       "      <td>0.919888</td>\n",
       "      <td>13.070603</td>\n",
       "    </tr>\n",
       "    <tr>\n",
       "      <th>P95</th>\n",
       "      <td>5.909112e+03</td>\n",
       "      <td>1.000000</td>\n",
       "      <td>3.998619e+03</td>\n",
       "      <td>2.671094e+03</td>\n",
       "      <td>1.750087e+03</td>\n",
       "      <td>4.647169e+03</td>\n",
       "      <td>1.000000</td>\n",
       "      <td>1.000000</td>\n",
       "      <td>1.000000</td>\n",
       "      <td>0.583333</td>\n",
       "      <td>...</td>\n",
       "      <td>57.000000</td>\n",
       "      <td>1.200000e+04</td>\n",
       "      <td>6.082091e+03</td>\n",
       "      <td>2.719567e+03</td>\n",
       "      <td>1.000000</td>\n",
       "      <td>12.000000</td>\n",
       "      <td>339.250042</td>\n",
       "      <td>425.548562</td>\n",
       "      <td>0.966686</td>\n",
       "      <td>20.953235</td>\n",
       "    </tr>\n",
       "    <tr>\n",
       "      <th>P99</th>\n",
       "      <td>9.338805e+03</td>\n",
       "      <td>1.000000</td>\n",
       "      <td>8.977290e+03</td>\n",
       "      <td>6.689898e+03</td>\n",
       "      <td>3.886241e+03</td>\n",
       "      <td>9.588163e+03</td>\n",
       "      <td>1.000000</td>\n",
       "      <td>1.000000</td>\n",
       "      <td>1.000000</td>\n",
       "      <td>0.833333</td>\n",
       "      <td>...</td>\n",
       "      <td>116.510000</td>\n",
       "      <td>1.700000e+04</td>\n",
       "      <td>1.360872e+04</td>\n",
       "      <td>8.626692e+03</td>\n",
       "      <td>1.000000</td>\n",
       "      <td>12.000000</td>\n",
       "      <td>758.652750</td>\n",
       "      <td>896.232349</td>\n",
       "      <td>1.057059</td>\n",
       "      <td>49.711789</td>\n",
       "    </tr>\n",
       "    <tr>\n",
       "      <th>MAX</th>\n",
       "      <td>1.904314e+04</td>\n",
       "      <td>1.000000</td>\n",
       "      <td>4.903957e+04</td>\n",
       "      <td>4.076125e+04</td>\n",
       "      <td>2.250000e+04</td>\n",
       "      <td>4.713721e+04</td>\n",
       "      <td>1.000000</td>\n",
       "      <td>1.000000</td>\n",
       "      <td>1.000000</td>\n",
       "      <td>1.500000</td>\n",
       "      <td>...</td>\n",
       "      <td>358.000000</td>\n",
       "      <td>3.000000e+04</td>\n",
       "      <td>5.072148e+04</td>\n",
       "      <td>7.640621e+04</td>\n",
       "      <td>1.000000</td>\n",
       "      <td>12.000000</td>\n",
       "      <td>4086.630833</td>\n",
       "      <td>3928.100980</td>\n",
       "      <td>15.909951</td>\n",
       "      <td>6840.528861</td>\n",
       "    </tr>\n",
       "  </tbody>\n",
       "</table>\n",
       "<p>18 rows × 21 columns</p>\n",
       "</div>"
      ],
      "text/plain": [
       "             BALANCE  BALANCE_FREQUENCY     PURCHASES  ONEOFF_PURCHASES  \\\n",
       "N       8.950000e+03        8950.000000  8.950000e+03      8.950000e+03   \n",
       "NMISS   0.000000e+00           0.000000  0.000000e+00      0.000000e+00   \n",
       "SUM     1.400205e+07        7851.572994  8.978683e+06      5.302314e+06   \n",
       "MEAN    1.564475e+03           0.877271  1.003205e+03      5.924374e+02   \n",
       "MEDIAN  8.733852e+02           1.000000  3.612800e+02      3.800000e+01   \n",
       "STD     2.081532e+03           0.236904  2.136635e+03      1.659888e+03   \n",
       "VAR     4.332775e+06           0.056124  4.565208e+06      2.755228e+06   \n",
       "MIN     0.000000e+00           0.000000  0.000000e+00      0.000000e+00   \n",
       "P1      6.510059e-02           0.090909  0.000000e+00      0.000000e+00   \n",
       "P5      8.814518e+00           0.272727  0.000000e+00      0.000000e+00   \n",
       "P10     2.357553e+01           0.454545  0.000000e+00      0.000000e+00   \n",
       "P25     1.282819e+02           0.888889  3.963500e+01      0.000000e+00   \n",
       "P50     8.733852e+02           1.000000  3.612800e+02      3.800000e+01   \n",
       "P75     2.054140e+03           1.000000  1.110130e+03      5.774050e+02   \n",
       "P90     4.338564e+03           1.000000  2.542624e+03      1.600099e+03   \n",
       "P95     5.909112e+03           1.000000  3.998619e+03      2.671094e+03   \n",
       "P99     9.338805e+03           1.000000  8.977290e+03      6.689898e+03   \n",
       "MAX     1.904314e+04           1.000000  4.903957e+04      4.076125e+04   \n",
       "\n",
       "        INSTALLMENTS_PURCHASES  CASH_ADVANCE  PURCHASES_FREQUENCY  \\\n",
       "N                 8.950000e+03  8.950000e+03          8950.000000   \n",
       "NMISS             0.000000e+00  0.000000e+00             0.000000   \n",
       "SUM               3.679055e+06  8.760896e+06          4388.637408   \n",
       "MEAN              4.110676e+02  9.788711e+02             0.490351   \n",
       "MEDIAN            8.900000e+01  0.000000e+00             0.500000   \n",
       "STD               9.043381e+02  2.097164e+03             0.401371   \n",
       "VAR               8.178274e+05  4.398096e+06             0.161098   \n",
       "MIN               0.000000e+00  0.000000e+00             0.000000   \n",
       "P1                0.000000e+00  0.000000e+00             0.000000   \n",
       "P5                0.000000e+00  0.000000e+00             0.000000   \n",
       "P10               0.000000e+00  0.000000e+00             0.000000   \n",
       "P25               0.000000e+00  0.000000e+00             0.083333   \n",
       "P50               8.900000e+01  0.000000e+00             0.500000   \n",
       "P75               4.686375e+02  1.113821e+03             0.916667   \n",
       "P90               1.140070e+03  3.065535e+03             1.000000   \n",
       "P95               1.750087e+03  4.647169e+03             1.000000   \n",
       "P99               3.886241e+03  9.588163e+03             1.000000   \n",
       "MAX               2.250000e+04  4.713721e+04             1.000000   \n",
       "\n",
       "        ONEOFF_PURCHASES_FREQUENCY  PURCHASES_INSTALLMENTS_FREQUENCY  \\\n",
       "N                      8950.000000                       8950.000000   \n",
       "NMISS                     0.000000                          0.000000   \n",
       "SUM                    1811.996268                       3261.714207   \n",
       "MEAN                      0.202458                          0.364437   \n",
       "MEDIAN                    0.083333                          0.166667   \n",
       "STD                       0.298336                          0.397448   \n",
       "VAR                       0.089004                          0.157965   \n",
       "MIN                       0.000000                          0.000000   \n",
       "P1                        0.000000                          0.000000   \n",
       "P5                        0.000000                          0.000000   \n",
       "P10                       0.000000                          0.000000   \n",
       "P25                       0.000000                          0.000000   \n",
       "P50                       0.083333                          0.166667   \n",
       "P75                       0.300000                          0.750000   \n",
       "P90                       0.750000                          1.000000   \n",
       "P95                       1.000000                          1.000000   \n",
       "P99                       1.000000                          1.000000   \n",
       "MAX                       1.000000                          1.000000   \n",
       "\n",
       "        CASH_ADVANCE_FREQUENCY  ...  PURCHASES_TRX  CREDIT_LIMIT  \\\n",
       "N                  8950.000000  ...    8950.000000  8.950000e+03   \n",
       "NMISS                 0.000000  ...       0.000000  0.000000e+00   \n",
       "SUM                1209.540593  ...  131653.000000  4.022383e+07   \n",
       "MEAN                  0.135144  ...      14.709832  4.494282e+03   \n",
       "MEDIAN                0.000000  ...       7.000000  3.000000e+03   \n",
       "STD                   0.200121  ...      24.857649  3.638647e+03   \n",
       "VAR                   0.040049  ...     617.902719  1.323975e+07   \n",
       "MIN                   0.000000  ...       0.000000  5.000000e+01   \n",
       "P1                    0.000000  ...       0.000000  5.000000e+02   \n",
       "P5                    0.000000  ...       0.000000  1.000000e+03   \n",
       "P10                   0.000000  ...       0.000000  1.200000e+03   \n",
       "P25                   0.000000  ...       1.000000  1.600000e+03   \n",
       "P50                   0.000000  ...       7.000000  3.000000e+03   \n",
       "P75                   0.222222  ...      17.000000  6.500000e+03   \n",
       "P90                   0.416667  ...      37.000000  9.500000e+03   \n",
       "P95                   0.583333  ...      57.000000  1.200000e+04   \n",
       "P99                   0.833333  ...     116.510000  1.700000e+04   \n",
       "MAX                   1.500000  ...     358.000000  3.000000e+04   \n",
       "\n",
       "            PAYMENTS  MINIMUM_PAYMENTS  PRC_FULL_PAYMENT         TENURE  \\\n",
       "N       8.950000e+03      8.950000e+03       8950.000000    8950.000000   \n",
       "NMISS   0.000000e+00      0.000000e+00          0.000000       0.000000   \n",
       "SUM     1.551164e+07      7.561916e+06       1375.746104  103080.000000   \n",
       "MEAN    1.733144e+03      8.449068e+02          0.153715      11.517318   \n",
       "MEDIAN  8.569015e+02      3.123439e+02          0.000000      12.000000   \n",
       "STD     2.895064e+03      2.332792e+03          0.292499       1.338331   \n",
       "VAR     8.381394e+06      5.441920e+06          0.085556       1.791129   \n",
       "MIN     0.000000e+00      1.916300e-02          0.000000       6.000000   \n",
       "P1      0.000000e+00      2.004061e+01          0.000000       6.000000   \n",
       "P5      8.998892e+01      7.464412e+01          0.000000       8.000000   \n",
       "P10     1.796171e+02      1.091313e+02          0.000000      10.000000   \n",
       "P25     3.832762e+02      1.708577e+02          0.000000      12.000000   \n",
       "P50     8.569015e+02      3.123439e+02          0.000000      12.000000   \n",
       "P75     1.901134e+03      7.887135e+02          0.142857      12.000000   \n",
       "P90     3.923907e+03      1.731690e+03          0.670000      12.000000   \n",
       "P95     6.082091e+03      2.719567e+03          1.000000      12.000000   \n",
       "P99     1.360872e+04      8.626692e+03          1.000000      12.000000   \n",
       "MAX     5.072148e+04      7.640621e+04          1.000000      12.000000   \n",
       "\n",
       "        Monthly_avg_purchase  Monthly_cash_advance  limit_usage  \\\n",
       "N                8950.000000           8950.000000  8950.000000   \n",
       "NMISS               0.000000              0.000000     0.000000   \n",
       "SUM            771267.797313         796352.953935  3480.508567   \n",
       "MEAN               86.175173             88.977984     0.388884   \n",
       "MEDIAN             31.936667              0.000000     0.302720   \n",
       "STD               180.508787            193.136115     0.389722   \n",
       "VAR             32583.422024          37301.558819     0.151883   \n",
       "MIN                 0.000000              0.000000     0.000000   \n",
       "P1                  0.000000              0.000000     0.000029   \n",
       "P5                  0.000000              0.000000     0.002943   \n",
       "P10                 0.000000              0.000000     0.007789   \n",
       "P25                 3.399375              0.000000     0.041494   \n",
       "P50                31.936667              0.000000     0.302720   \n",
       "P75                97.228333             99.085196     0.717571   \n",
       "P90               217.353917            278.058470     0.919888   \n",
       "P95               339.250042            425.548562     0.966686   \n",
       "P99               758.652750            896.232349     1.057059   \n",
       "MAX              4086.630833           3928.100980    15.909951   \n",
       "\n",
       "        payment_minpay  \n",
       "N          8950.000000  \n",
       "NMISS         0.000000  \n",
       "SUM       81079.518764  \n",
       "MEAN          9.059164  \n",
       "MEDIAN        2.032717  \n",
       "STD         118.180526  \n",
       "VAR       13966.636633  \n",
       "MIN           0.000000  \n",
       "P1            0.000000  \n",
       "P5            0.277366  \n",
       "P10           0.535496  \n",
       "P25           0.913275  \n",
       "P50           2.032717  \n",
       "P75           6.052729  \n",
       "P90          13.070603  \n",
       "P95          20.953235  \n",
       "P99          49.711789  \n",
       "MAX        6840.528861  \n",
       "\n",
       "[18 rows x 21 columns]"
      ]
     },
     "execution_count": 26,
     "metadata": {},
     "output_type": "execute_result"
    }
   ],
   "source": [
    "num_summary"
   ]
  },
  {
   "cell_type": "markdown",
   "metadata": {},
   "source": [
    "## Treating Outliers"
   ]
  },
  {
   "cell_type": "code",
   "execution_count": 27,
   "metadata": {},
   "outputs": [
    {
     "name": "stderr",
     "output_type": "stream",
     "text": [
      "C:\\Users\\HP\\Anaconda3\\lib\\site-packages\\ipykernel_launcher.py:2: FutureWarning: clip_upper(threshold) is deprecated, use clip(upper=threshold) instead\n",
      "  \n",
      "C:\\Users\\HP\\Anaconda3\\lib\\site-packages\\ipykernel_launcher.py:3: FutureWarning: clip_lower(threshold) is deprecated, use clip(lower=threshold) instead\n",
      "  This is separate from the ipykernel package so we can avoid doing imports until\n"
     ]
    }
   ],
   "source": [
    "def outlier_capping(x):\n",
    "    x = x.clip_upper(x.quantile(0.99))\n",
    "    x = x.clip_lower(x.quantile(0.01))\n",
    "    return x\n",
    "\n",
    "credit_n = credit_n.apply(lambda x: outlier_capping(x))"
   ]
  },
  {
   "cell_type": "code",
   "execution_count": 28,
   "metadata": {},
   "outputs": [
    {
     "data": {
      "text/plain": [
       "array([ 7.23698216, 13.2590037 , 10.08745106,  5.57108156])"
      ]
     },
     "execution_count": 28,
     "metadata": {},
     "output_type": "execute_result"
    }
   ],
   "source": [
    "x=credit.groupby('purchase_type').apply(lambda x: np.mean(x['payment_minpay']))\n",
    "type(x)\n",
    "x.values"
   ]
  },
  {
   "cell_type": "code",
   "execution_count": 29,
   "metadata": {},
   "outputs": [
    {
     "data": {
      "text/plain": [
       "<matplotlib.axes._subplots.AxesSubplot at 0x19d4773b9b0>"
      ]
     },
     "execution_count": 29,
     "metadata": {},
     "output_type": "execute_result"
    },
    {
     "data": {
      "image/png": "[encoded data removed]",
      "text/plain": [
       "<Figure size 432x288 with 1 Axes>"
      ]
     },
     "metadata": {
      "needs_background": "light"
     },
     "output_type": "display_data"
    }
   ],
   "source": [
    "x.plot.barh()"
   ]
  },
  {
   "cell_type": "code",
   "execution_count": 30,
   "metadata": {},
   "outputs": [
    {
     "data": {
      "text/plain": [
       "<matplotlib.axes._subplots.AxesSubplot at 0x19d4704e438>"
      ]
     },
     "execution_count": 30,
     "metadata": {},
     "output_type": "execute_result"
    },
    {
     "data": {
      "image/png": "[encoded data removed]",
      "text/plain": [
       "<Figure size 432x288 with 1 Axes>"
      ]
     },
     "metadata": {
      "needs_background": "light"
     },
     "output_type": "display_data"
    }
   ],
   "source": [
    "credit.groupby('purchase_type').apply(lambda x: np.mean(x['Monthly_cash_advance'])).plot.barh()"
   ]
  },
  {
   "cell_type": "code",
   "execution_count": 31,
   "metadata": {},
   "outputs": [
    {
     "data": {
      "text/plain": [
       "<matplotlib.axes._subplots.AxesSubplot at 0x19d470a6e80>"
      ]
     },
     "execution_count": 31,
     "metadata": {},
     "output_type": "execute_result"
    },
    {
     "data": {
      "image/png": "[encoded data removed]",
      "text/plain": [
       "<Figure size 432x288 with 1 Axes>"
      ]
     },
     "metadata": {
      "needs_background": "light"
     },
     "output_type": "display_data"
    }
   ],
   "source": [
    "credit.groupby('purchase_type').apply(lambda x: np.mean(x['limit_usage'])).plot.barh()"
   ]
  },
  {
   "cell_type": "code",
   "execution_count": 32,
   "metadata": {},
   "outputs": [],
   "source": [
    "credit_n['purchase_type'] = credit['purchase_type']"
   ]
  },
  {
   "cell_type": "code",
   "execution_count": 33,
   "metadata": {},
   "outputs": [
    {
     "data": {
      "text/plain": [
       "(8950, 22)"
      ]
     },
     "execution_count": 33,
     "metadata": {},
     "output_type": "execute_result"
    }
   ],
   "source": [
    "credit_n.shape"
   ]
  },
  {
   "cell_type": "markdown",
   "metadata": {},
   "source": [
    "## Making dummies for 1 categorical column"
   ]
  },
  {
   "cell_type": "code",
   "execution_count": 34,
   "metadata": {},
   "outputs": [],
   "source": [
    "dummy = pd.get_dummies(credit_n['purchase_type'])"
   ]
  },
  {
   "cell_type": "code",
   "execution_count": 35,
   "metadata": {},
   "outputs": [],
   "source": [
    "creditnew = pd.concat([credit_n , dummy] , axis=1) #concating and makung new and final dataset"
   ]
  },
  {
   "cell_type": "code",
   "execution_count": 36,
   "metadata": {},
   "outputs": [],
   "source": [
    "creditnew.drop(columns = 'purchase_type' ,inplace = True) #dropping as we do not need it"
   ]
  },
  {
   "cell_type": "code",
   "execution_count": 37,
   "metadata": {},
   "outputs": [
    {
     "name": "stdout",
     "output_type": "stream",
     "text": [
      "<class 'pandas.core.frame.DataFrame'>\n",
      "RangeIndex: 8950 entries, 0 to 8949\n",
      "Data columns (total 25 columns):\n",
      "BALANCE                             8950 non-null float64\n",
      "BALANCE_FREQUENCY                   8950 non-null float64\n",
      "PURCHASES                           8950 non-null float64\n",
      "ONEOFF_PURCHASES                    8950 non-null float64\n",
      "INSTALLMENTS_PURCHASES              8950 non-null float64\n",
      "CASH_ADVANCE                        8950 non-null float64\n",
      "PURCHASES_FREQUENCY                 8950 non-null float64\n",
      "ONEOFF_PURCHASES_FREQUENCY          8950 non-null float64\n",
      "PURCHASES_INSTALLMENTS_FREQUENCY    8950 non-null float64\n",
      "CASH_ADVANCE_FREQUENCY              8950 non-null float64\n",
      "CASH_ADVANCE_TRX                    8950 non-null int64\n",
      "PURCHASES_TRX                       8950 non-null float64\n",
      "CREDIT_LIMIT                        8950 non-null float64\n",
      "PAYMENTS                            8950 non-null float64\n",
      "MINIMUM_PAYMENTS                    8950 non-null float64\n",
      "PRC_FULL_PAYMENT                    8950 non-null float64\n",
      "TENURE                              8950 non-null int64\n",
      "Monthly_avg_purchase                8950 non-null float64\n",
      "Monthly_cash_advance                8950 non-null float64\n",
      "limit_usage                         8950 non-null float64\n",
      "payment_minpay                      8950 non-null float64\n",
      "both_oneoff_installment             8950 non-null uint8\n",
      "installment                         8950 non-null uint8\n",
      "none                                8950 non-null uint8\n",
      "one_off                             8950 non-null uint8\n",
      "dtypes: float64(19), int64(2), uint8(4)\n",
      "memory usage: 1.5 MB\n"
     ]
    }
   ],
   "source": [
    "creditnew.info()"
   ]
  },
  {
   "cell_type": "markdown",
   "metadata": {},
   "source": [
    "## Standardising the dataset"
   ]
  },
  {
   "cell_type": "code",
   "execution_count": 38,
   "metadata": {},
   "outputs": [],
   "source": [
    "from sklearn.preprocessing import  StandardScaler"
   ]
  },
  {
   "cell_type": "code",
   "execution_count": 39,
   "metadata": {},
   "outputs": [],
   "source": [
    "sc=StandardScaler()"
   ]
  },
  {
   "cell_type": "code",
   "execution_count": 40,
   "metadata": {},
   "outputs": [
    {
     "name": "stderr",
     "output_type": "stream",
     "text": [
      "C:\\Users\\HP\\Anaconda3\\lib\\site-packages\\sklearn\\preprocessing\\data.py:645: DataConversionWarning: Data with input dtype uint8, int64, float64 were all converted to float64 by StandardScaler.\n",
      "  return self.partial_fit(X, y)\n",
      "C:\\Users\\HP\\Anaconda3\\lib\\site-packages\\sklearn\\base.py:464: DataConversionWarning: Data with input dtype uint8, int64, float64 were all converted to float64 by StandardScaler.\n",
      "  return self.fit(X, **fit_params).transform(X)\n"
     ]
    }
   ],
   "source": [
    "credit_scaled = sc.fit_transform(creditnew)"
   ]
  },
  {
   "cell_type": "markdown",
   "metadata": {},
   "source": [
    "## Applying PCA\n",
    "\n",
    "## With the help of PCA we will reduce features"
   ]
  },
  {
   "cell_type": "code",
   "execution_count": 41,
   "metadata": {},
   "outputs": [],
   "source": [
    "from sklearn.decomposition import PCA"
   ]
  },
  {
   "cell_type": "code",
   "execution_count": 42,
   "metadata": {},
   "outputs": [
    {
     "data": {
      "text/plain": [
       "(8950, 25)"
      ]
     },
     "execution_count": 42,
     "metadata": {},
     "output_type": "execute_result"
    }
   ],
   "source": [
    "creditnew.shape"
   ]
  },
  {
   "cell_type": "code",
   "execution_count": 43,
   "metadata": {},
   "outputs": [],
   "source": [
    "pc=PCA(n_components=25)\n",
    "cr_pca=pc.fit(credit_scaled)"
   ]
  },
  {
   "cell_type": "code",
   "execution_count": 44,
   "metadata": {},
   "outputs": [
    {
     "data": {
      "text/plain": [
       "array([6.71589744e+00, 4.91151015e+00, 2.35827844e+00, 2.03320375e+00,\n",
       "       1.28840989e+00, 1.25321187e+00, 1.04294019e+00, 8.90125297e-01,\n",
       "       7.64941924e-01, 6.23996324e-01, 5.64560871e-01, 5.03069314e-01,\n",
       "       4.34446648e-01, 3.69110404e-01, 3.15399656e-01, 2.52427727e-01,\n",
       "       2.06153465e-01, 1.79210651e-01, 1.25449913e-01, 1.03372400e-01,\n",
       "       3.45206095e-02, 1.86459738e-02, 1.03153594e-02, 3.59535252e-03,\n",
       "       9.62276113e-32])"
      ]
     },
     "execution_count": 44,
     "metadata": {},
     "output_type": "execute_result"
    }
   ],
   "source": [
    "pc.explained_variance_"
   ]
  },
  {
   "cell_type": "code",
   "execution_count": 45,
   "metadata": {},
   "outputs": [
    {
     "data": {
      "text/plain": [
       "25.002793608224366"
      ]
     },
     "execution_count": 45,
     "metadata": {},
     "output_type": "execute_result"
    }
   ],
   "source": [
    "sum(pc.explained_variance_)"
   ]
  },
  {
   "cell_type": "code",
   "execution_count": 46,
   "metadata": {},
   "outputs": [
    {
     "data": {
      "text/plain": [
       "array([26.86, 46.5 , 55.93, 64.06, 69.21, 74.22, 78.39, 81.95, 85.01,\n",
       "       87.51, 89.77, 91.78, 93.52, 95.  , 96.26, 97.27, 98.09, 98.81,\n",
       "       99.31, 99.72, 99.86, 99.93, 99.97, 99.98, 99.98])"
      ]
     },
     "execution_count": 46,
     "metadata": {},
     "output_type": "execute_result"
    }
   ],
   "source": [
    "var1=np.cumsum(np.round(pc.explained_variance_ratio_, decimals=4)*100)\n",
    "var1"
   ]
  },
  {
   "cell_type": "code",
   "execution_count": 47,
   "metadata": {},
   "outputs": [
    {
     "data": {
      "text/html": [
       "<div>\n",
       "<style scoped>\n",
       "    .dataframe tbody tr th:only-of-type {\n",
       "        vertical-align: middle;\n",
       "    }\n",
       "\n",
       "    .dataframe tbody tr th {\n",
       "        vertical-align: top;\n",
       "    }\n",
       "\n",
       "    .dataframe thead th {\n",
       "        text-align: right;\n",
       "    }\n",
       "</style>\n",
       "<table border=\"1\" class=\"dataframe\">\n",
       "  <thead>\n",
       "    <tr style=\"text-align: right;\">\n",
       "      <th></th>\n",
       "      <th>Eigen_value</th>\n",
       "      <th>Cumm_variance</th>\n",
       "    </tr>\n",
       "  </thead>\n",
       "  <tbody>\n",
       "    <tr>\n",
       "      <th>1</th>\n",
       "      <td>6.715897e+00</td>\n",
       "      <td>26.86</td>\n",
       "    </tr>\n",
       "    <tr>\n",
       "      <th>2</th>\n",
       "      <td>4.911510e+00</td>\n",
       "      <td>46.50</td>\n",
       "    </tr>\n",
       "    <tr>\n",
       "      <th>3</th>\n",
       "      <td>2.358278e+00</td>\n",
       "      <td>55.93</td>\n",
       "    </tr>\n",
       "    <tr>\n",
       "      <th>4</th>\n",
       "      <td>2.033204e+00</td>\n",
       "      <td>64.06</td>\n",
       "    </tr>\n",
       "    <tr>\n",
       "      <th>5</th>\n",
       "      <td>1.288410e+00</td>\n",
       "      <td>69.21</td>\n",
       "    </tr>\n",
       "    <tr>\n",
       "      <th>6</th>\n",
       "      <td>1.253212e+00</td>\n",
       "      <td>74.22</td>\n",
       "    </tr>\n",
       "    <tr>\n",
       "      <th>7</th>\n",
       "      <td>1.042940e+00</td>\n",
       "      <td>78.39</td>\n",
       "    </tr>\n",
       "    <tr>\n",
       "      <th>8</th>\n",
       "      <td>8.901253e-01</td>\n",
       "      <td>81.95</td>\n",
       "    </tr>\n",
       "    <tr>\n",
       "      <th>9</th>\n",
       "      <td>7.649419e-01</td>\n",
       "      <td>85.01</td>\n",
       "    </tr>\n",
       "    <tr>\n",
       "      <th>10</th>\n",
       "      <td>6.239963e-01</td>\n",
       "      <td>87.51</td>\n",
       "    </tr>\n",
       "    <tr>\n",
       "      <th>11</th>\n",
       "      <td>5.645609e-01</td>\n",
       "      <td>89.77</td>\n",
       "    </tr>\n",
       "    <tr>\n",
       "      <th>12</th>\n",
       "      <td>5.030693e-01</td>\n",
       "      <td>91.78</td>\n",
       "    </tr>\n",
       "    <tr>\n",
       "      <th>13</th>\n",
       "      <td>4.344466e-01</td>\n",
       "      <td>93.52</td>\n",
       "    </tr>\n",
       "    <tr>\n",
       "      <th>14</th>\n",
       "      <td>3.691104e-01</td>\n",
       "      <td>95.00</td>\n",
       "    </tr>\n",
       "    <tr>\n",
       "      <th>15</th>\n",
       "      <td>3.153997e-01</td>\n",
       "      <td>96.26</td>\n",
       "    </tr>\n",
       "    <tr>\n",
       "      <th>16</th>\n",
       "      <td>2.524277e-01</td>\n",
       "      <td>97.27</td>\n",
       "    </tr>\n",
       "    <tr>\n",
       "      <th>17</th>\n",
       "      <td>2.061535e-01</td>\n",
       "      <td>98.09</td>\n",
       "    </tr>\n",
       "    <tr>\n",
       "      <th>18</th>\n",
       "      <td>1.792107e-01</td>\n",
       "      <td>98.81</td>\n",
       "    </tr>\n",
       "    <tr>\n",
       "      <th>19</th>\n",
       "      <td>1.254499e-01</td>\n",
       "      <td>99.31</td>\n",
       "    </tr>\n",
       "    <tr>\n",
       "      <th>20</th>\n",
       "      <td>1.033724e-01</td>\n",
       "      <td>99.72</td>\n",
       "    </tr>\n",
       "    <tr>\n",
       "      <th>21</th>\n",
       "      <td>3.452061e-02</td>\n",
       "      <td>99.86</td>\n",
       "    </tr>\n",
       "    <tr>\n",
       "      <th>22</th>\n",
       "      <td>1.864597e-02</td>\n",
       "      <td>99.93</td>\n",
       "    </tr>\n",
       "    <tr>\n",
       "      <th>23</th>\n",
       "      <td>1.031536e-02</td>\n",
       "      <td>99.97</td>\n",
       "    </tr>\n",
       "    <tr>\n",
       "      <th>24</th>\n",
       "      <td>3.595353e-03</td>\n",
       "      <td>99.98</td>\n",
       "    </tr>\n",
       "    <tr>\n",
       "      <th>25</th>\n",
       "      <td>9.622761e-32</td>\n",
       "      <td>99.98</td>\n",
       "    </tr>\n",
       "  </tbody>\n",
       "</table>\n",
       "</div>"
      ],
      "text/plain": [
       "     Eigen_value  Cumm_variance\n",
       "1   6.715897e+00          26.86\n",
       "2   4.911510e+00          46.50\n",
       "3   2.358278e+00          55.93\n",
       "4   2.033204e+00          64.06\n",
       "5   1.288410e+00          69.21\n",
       "6   1.253212e+00          74.22\n",
       "7   1.042940e+00          78.39\n",
       "8   8.901253e-01          81.95\n",
       "9   7.649419e-01          85.01\n",
       "10  6.239963e-01          87.51\n",
       "11  5.645609e-01          89.77\n",
       "12  5.030693e-01          91.78\n",
       "13  4.344466e-01          93.52\n",
       "14  3.691104e-01          95.00\n",
       "15  3.153997e-01          96.26\n",
       "16  2.524277e-01          97.27\n",
       "17  2.061535e-01          98.09\n",
       "18  1.792107e-01          98.81\n",
       "19  1.254499e-01          99.31\n",
       "20  1.033724e-01          99.72\n",
       "21  3.452061e-02          99.86\n",
       "22  1.864597e-02          99.93\n",
       "23  1.031536e-02          99.97\n",
       "24  3.595353e-03          99.98\n",
       "25  9.622761e-32          99.98"
      ]
     },
     "execution_count": 47,
     "metadata": {},
     "output_type": "execute_result"
    }
   ],
   "source": [
    "pd.DataFrame({'Eigen_value': pc.explained_variance_, 'Cumm_variance':var1}, index=range(1,26))"
   ]
  },
  {
   "cell_type": "code",
   "execution_count": 48,
   "metadata": {},
   "outputs": [],
   "source": [
    "pc_final=PCA(n_components=6).fit(credit_scaled)"
   ]
  },
  {
   "cell_type": "code",
   "execution_count": 49,
   "metadata": {},
   "outputs": [
    {
     "data": {
      "text/plain": [
       "array([6.71589744, 4.91151015, 2.35827844, 2.03320374, 1.28840257,\n",
       "       1.25321175])"
      ]
     },
     "execution_count": 49,
     "metadata": {},
     "output_type": "execute_result"
    }
   ],
   "source": [
    "pc_final.explained_variance_"
   ]
  },
  {
   "cell_type": "code",
   "execution_count": 50,
   "metadata": {},
   "outputs": [],
   "source": [
    "reduced_cr=pc_final.fit_transform(credit_scaled)"
   ]
  },
  {
   "cell_type": "code",
   "execution_count": 51,
   "metadata": {},
   "outputs": [],
   "source": [
    "dim = pd.DataFrame(reduced_cr)"
   ]
  },
  {
   "cell_type": "code",
   "execution_count": 52,
   "metadata": {},
   "outputs": [
    {
     "data": {
      "text/plain": [
       "(8950, 6)"
      ]
     },
     "execution_count": 52,
     "metadata": {},
     "output_type": "execute_result"
    }
   ],
   "source": [
    "dim.shape"
   ]
  },
  {
   "cell_type": "code",
   "execution_count": 53,
   "metadata": {},
   "outputs": [],
   "source": [
    "dim.columns = [\"C1\", \"C2\", \"C3\", \"C4\", \"C5\", \"C6\" ]"
   ]
  },
  {
   "cell_type": "code",
   "execution_count": 54,
   "metadata": {},
   "outputs": [],
   "source": [
    "from sklearn.cluster import KMeans"
   ]
  },
  {
   "cell_type": "code",
   "execution_count": 55,
   "metadata": {},
   "outputs": [],
   "source": [
    "km_4=KMeans(n_clusters=4,random_state=123)"
   ]
  },
  {
   "cell_type": "code",
   "execution_count": 56,
   "metadata": {},
   "outputs": [
    {
     "data": {
      "text/plain": [
       "KMeans(algorithm='auto', copy_x=True, init='k-means++', max_iter=300,\n",
       "    n_clusters=4, n_init=10, n_jobs=None, precompute_distances='auto',\n",
       "    random_state=123, tol=0.0001, verbose=0)"
      ]
     },
     "execution_count": 56,
     "metadata": {},
     "output_type": "execute_result"
    }
   ],
   "source": [
    "km_4.fit(reduced_cr)"
   ]
  },
  {
   "cell_type": "code",
   "execution_count": 57,
   "metadata": {},
   "outputs": [
    {
     "data": {
      "text/plain": [
       "2    3343\n",
       "0    3250\n",
       "3    1204\n",
       "1    1153\n",
       "dtype: int64"
      ]
     },
     "execution_count": 57,
     "metadata": {},
     "output_type": "execute_result"
    }
   ],
   "source": [
    "pd.Series(km_4.labels_).value_counts()"
   ]
  },
  {
   "cell_type": "code",
   "execution_count": 58,
   "metadata": {},
   "outputs": [],
   "source": [
    "cluster_range = range( 1, 26 )\n",
    "cluster_errors = []\n",
    "\n",
    "for x in cluster_range:\n",
    "    clusters = KMeans( x )\n",
    "    clusters.fit( reduced_cr )\n",
    "    cluster_errors.append( clusters.inertia_ )"
   ]
  },
  {
   "cell_type": "code",
   "execution_count": 59,
   "metadata": {},
   "outputs": [
    {
     "data": {
      "text/html": [
       "<div>\n",
       "<style scoped>\n",
       "    .dataframe tbody tr th:only-of-type {\n",
       "        vertical-align: middle;\n",
       "    }\n",
       "\n",
       "    .dataframe tbody tr th {\n",
       "        vertical-align: top;\n",
       "    }\n",
       "\n",
       "    .dataframe thead th {\n",
       "        text-align: right;\n",
       "    }\n",
       "</style>\n",
       "<table border=\"1\" class=\"dataframe\">\n",
       "  <thead>\n",
       "    <tr style=\"text-align: right;\">\n",
       "      <th></th>\n",
       "      <th>num_clusters</th>\n",
       "      <th>cluster_errors</th>\n",
       "    </tr>\n",
       "  </thead>\n",
       "  <tbody>\n",
       "    <tr>\n",
       "      <th>0</th>\n",
       "      <td>1</td>\n",
       "      <td>166098.012919</td>\n",
       "    </tr>\n",
       "    <tr>\n",
       "      <th>1</th>\n",
       "      <td>2</td>\n",
       "      <td>127752.164590</td>\n",
       "    </tr>\n",
       "    <tr>\n",
       "      <th>2</th>\n",
       "      <td>3</td>\n",
       "      <td>100029.080904</td>\n",
       "    </tr>\n",
       "    <tr>\n",
       "      <th>3</th>\n",
       "      <td>4</td>\n",
       "      <td>84924.818388</td>\n",
       "    </tr>\n",
       "    <tr>\n",
       "      <th>4</th>\n",
       "      <td>5</td>\n",
       "      <td>73429.155979</td>\n",
       "    </tr>\n",
       "    <tr>\n",
       "      <th>5</th>\n",
       "      <td>6</td>\n",
       "      <td>63195.071466</td>\n",
       "    </tr>\n",
       "    <tr>\n",
       "      <th>6</th>\n",
       "      <td>7</td>\n",
       "      <td>59039.253258</td>\n",
       "    </tr>\n",
       "    <tr>\n",
       "      <th>7</th>\n",
       "      <td>8</td>\n",
       "      <td>54976.774900</td>\n",
       "    </tr>\n",
       "    <tr>\n",
       "      <th>8</th>\n",
       "      <td>9</td>\n",
       "      <td>51989.094735</td>\n",
       "    </tr>\n",
       "    <tr>\n",
       "      <th>9</th>\n",
       "      <td>10</td>\n",
       "      <td>49258.888681</td>\n",
       "    </tr>\n",
       "    <tr>\n",
       "      <th>10</th>\n",
       "      <td>11</td>\n",
       "      <td>46999.568020</td>\n",
       "    </tr>\n",
       "    <tr>\n",
       "      <th>11</th>\n",
       "      <td>12</td>\n",
       "      <td>44769.459268</td>\n",
       "    </tr>\n",
       "    <tr>\n",
       "      <th>12</th>\n",
       "      <td>13</td>\n",
       "      <td>42817.722943</td>\n",
       "    </tr>\n",
       "    <tr>\n",
       "      <th>13</th>\n",
       "      <td>14</td>\n",
       "      <td>41361.703285</td>\n",
       "    </tr>\n",
       "    <tr>\n",
       "      <th>14</th>\n",
       "      <td>15</td>\n",
       "      <td>39824.387759</td>\n",
       "    </tr>\n",
       "    <tr>\n",
       "      <th>15</th>\n",
       "      <td>16</td>\n",
       "      <td>38325.549213</td>\n",
       "    </tr>\n",
       "    <tr>\n",
       "      <th>16</th>\n",
       "      <td>17</td>\n",
       "      <td>37114.215365</td>\n",
       "    </tr>\n",
       "    <tr>\n",
       "      <th>17</th>\n",
       "      <td>18</td>\n",
       "      <td>35977.591752</td>\n",
       "    </tr>\n",
       "    <tr>\n",
       "      <th>18</th>\n",
       "      <td>19</td>\n",
       "      <td>34852.922459</td>\n",
       "    </tr>\n",
       "    <tr>\n",
       "      <th>19</th>\n",
       "      <td>20</td>\n",
       "      <td>33820.460314</td>\n",
       "    </tr>\n",
       "    <tr>\n",
       "      <th>20</th>\n",
       "      <td>21</td>\n",
       "      <td>32720.283062</td>\n",
       "    </tr>\n",
       "    <tr>\n",
       "      <th>21</th>\n",
       "      <td>22</td>\n",
       "      <td>31736.818384</td>\n",
       "    </tr>\n",
       "    <tr>\n",
       "      <th>22</th>\n",
       "      <td>23</td>\n",
       "      <td>30706.091243</td>\n",
       "    </tr>\n",
       "    <tr>\n",
       "      <th>23</th>\n",
       "      <td>24</td>\n",
       "      <td>30036.868842</td>\n",
       "    </tr>\n",
       "    <tr>\n",
       "      <th>24</th>\n",
       "      <td>25</td>\n",
       "      <td>29383.746586</td>\n",
       "    </tr>\n",
       "  </tbody>\n",
       "</table>\n",
       "</div>"
      ],
      "text/plain": [
       "    num_clusters  cluster_errors\n",
       "0              1   166098.012919\n",
       "1              2   127752.164590\n",
       "2              3   100029.080904\n",
       "3              4    84924.818388\n",
       "4              5    73429.155979\n",
       "5              6    63195.071466\n",
       "6              7    59039.253258\n",
       "7              8    54976.774900\n",
       "8              9    51989.094735\n",
       "9             10    49258.888681\n",
       "10            11    46999.568020\n",
       "11            12    44769.459268\n",
       "12            13    42817.722943\n",
       "13            14    41361.703285\n",
       "14            15    39824.387759\n",
       "15            16    38325.549213\n",
       "16            17    37114.215365\n",
       "17            18    35977.591752\n",
       "18            19    34852.922459\n",
       "19            20    33820.460314\n",
       "20            21    32720.283062\n",
       "21            22    31736.818384\n",
       "22            23    30706.091243\n",
       "23            24    30036.868842\n",
       "24            25    29383.746586"
      ]
     },
     "execution_count": 59,
     "metadata": {},
     "output_type": "execute_result"
    }
   ],
   "source": [
    "clusters_df = pd.DataFrame( { \"num_clusters\":cluster_range, \"cluster_errors\": cluster_errors } )\n",
    "\n",
    "clusters_df[0:26]"
   ]
  },
  {
   "cell_type": "code",
   "execution_count": 60,
   "metadata": {},
   "outputs": [
    {
     "data": {
      "text/plain": [
       "[<matplotlib.lines.Line2D at 0x19d482bdfd0>]"
      ]
     },
     "execution_count": 60,
     "metadata": {},
     "output_type": "execute_result"
    },
    {
     "data": {
      "image/png": "[encoded data removed]",
      "text/plain": [
       "<Figure size 1440x720 with 1 Axes>"
      ]
     },
     "metadata": {
      "needs_background": "light"
     },
     "output_type": "display_data"
    }
   ],
   "source": [
    "#Elbow Analysis\n",
    "\n",
    "%matplotlib inline\n",
    "import matplotlib.pyplot as plt\n",
    "plt.figure(figsize=(20,10))\n",
    "plt.plot( clusters_df.num_clusters, clusters_df.cluster_errors, marker = \"o\" )"
   ]
  },
  {
   "cell_type": "code",
   "execution_count": 61,
   "metadata": {},
   "outputs": [],
   "source": [
    "from sklearn import metrics"
   ]
  },
  {
   "cell_type": "code",
   "execution_count": 62,
   "metadata": {},
   "outputs": [],
   "source": [
    "# calculating SC\n",
    "k_range = range(2, 25)\n",
    "scores = []\n",
    "for k in k_range:\n",
    "    km = KMeans(n_clusters=k, random_state=1)\n",
    "    km.fit(reduced_cr)\n",
    "    scores.append(metrics.silhouette_score(reduced_cr, km.labels_))"
   ]
  },
  {
   "cell_type": "code",
   "execution_count": 63,
   "metadata": {},
   "outputs": [
    {
     "data": {
      "text/plain": [
       "[0.3002984215571806,\n",
       " 0.26187193052118796,\n",
       " 0.2486241629764369,\n",
       " 0.2941196882929565,\n",
       " 0.31377860713851563,\n",
       " 0.2958893209928443,\n",
       " 0.30888848208373126,\n",
       " 0.29707235057629117,\n",
       " 0.28584996975227783,\n",
       " 0.3007562274834193,\n",
       " 0.2831909569577549,\n",
       " 0.28353529250046033,\n",
       " 0.2851407992961537,\n",
       " 0.27290830513779624,\n",
       " 0.2825891163732427,\n",
       " 0.26601463757938815,\n",
       " 0.2626951628695425,\n",
       " 0.26814719299923734,\n",
       " 0.2633086541361314,\n",
       " 0.2607802770538322,\n",
       " 0.25629307795815753,\n",
       " 0.2615545903073922,\n",
       " 0.26053858671233665]"
      ]
     },
     "execution_count": 63,
     "metadata": {},
     "output_type": "execute_result"
    }
   ],
   "source": [
    "scores"
   ]
  },
  {
   "cell_type": "code",
   "execution_count": 64,
   "metadata": {},
   "outputs": [
    {
     "data": {
      "image/png": "[encoded data removed]",
      "text/plain": [
       "<Figure size 432x288 with 1 Axes>"
      ]
     },
     "metadata": {
      "needs_background": "light"
     },
     "output_type": "display_data"
    }
   ],
   "source": [
    "# plotting the results\n",
    "plt.plot(k_range, scores)\n",
    "plt.xlabel('Number of clusters')\n",
    "plt.ylabel('Silhouette Coefficient')\n",
    "plt.grid(True)"
   ]
  },
  {
   "cell_type": "markdown",
   "metadata": {},
   "source": [
    "From elbow analysis & silhouette cofficient clusters 4,5,6 seem appropriate"
   ]
  },
  {
   "cell_type": "markdown",
   "metadata": {},
   "source": [
    "## Key performace variable selection , taking varibales which we will use in derving new KPI."
   ]
  },
  {
   "cell_type": "code",
   "execution_count": 66,
   "metadata": {},
   "outputs": [],
   "source": [
    "col_kpi=['PURCHASES_TRX','Monthly_avg_purchase','Monthly_cash_advance','limit_usage','CASH_ADVANCE_TRX',\n",
    "         'payment_minpay','both_oneoff_installment','installment','one_off','none','CREDIT_LIMIT']"
   ]
  },
  {
   "cell_type": "code",
   "execution_count": 67,
   "metadata": {},
   "outputs": [
    {
     "data": {
      "text/plain": [
       "Index(['BALANCE', 'BALANCE_FREQUENCY', 'PURCHASES', 'ONEOFF_PURCHASES',\n",
       "       'INSTALLMENTS_PURCHASES', 'CASH_ADVANCE', 'PURCHASES_FREQUENCY',\n",
       "       'ONEOFF_PURCHASES_FREQUENCY', 'PURCHASES_INSTALLMENTS_FREQUENCY',\n",
       "       'CASH_ADVANCE_FREQUENCY', 'CASH_ADVANCE_TRX', 'PURCHASES_TRX',\n",
       "       'CREDIT_LIMIT', 'PAYMENTS', 'MINIMUM_PAYMENTS', 'PRC_FULL_PAYMENT',\n",
       "       'TENURE', 'Monthly_avg_purchase', 'Monthly_cash_advance', 'limit_usage',\n",
       "       'payment_minpay', 'both_oneoff_installment', 'installment', 'none',\n",
       "       'one_off'],\n",
       "      dtype='object')"
      ]
     },
     "execution_count": 67,
     "metadata": {},
     "output_type": "execute_result"
    }
   ],
   "source": [
    "creditnew.columns"
   ]
  },
  {
   "cell_type": "code",
   "execution_count": 68,
   "metadata": {},
   "outputs": [],
   "source": [
    "# Conactenating labels found through Kmeans with data \n",
    "\n",
    "c4 = pd.concat([creditnew[col_kpi] , pd.Series(km_4.labels_,name='Cluster_4')] , axis = 1)"
   ]
  },
  {
   "cell_type": "code",
   "execution_count": 69,
   "metadata": {},
   "outputs": [
    {
     "data": {
      "text/html": [
       "<div>\n",
       "<style scoped>\n",
       "    .dataframe tbody tr th:only-of-type {\n",
       "        vertical-align: middle;\n",
       "    }\n",
       "\n",
       "    .dataframe tbody tr th {\n",
       "        vertical-align: top;\n",
       "    }\n",
       "\n",
       "    .dataframe thead th {\n",
       "        text-align: right;\n",
       "    }\n",
       "</style>\n",
       "<table border=\"1\" class=\"dataframe\">\n",
       "  <thead>\n",
       "    <tr style=\"text-align: right;\">\n",
       "      <th></th>\n",
       "      <th>PURCHASES_TRX</th>\n",
       "      <th>Monthly_avg_purchase</th>\n",
       "      <th>Monthly_cash_advance</th>\n",
       "      <th>limit_usage</th>\n",
       "      <th>CASH_ADVANCE_TRX</th>\n",
       "      <th>payment_minpay</th>\n",
       "      <th>both_oneoff_installment</th>\n",
       "      <th>installment</th>\n",
       "      <th>one_off</th>\n",
       "      <th>none</th>\n",
       "      <th>CREDIT_LIMIT</th>\n",
       "      <th>Cluster_4</th>\n",
       "    </tr>\n",
       "  </thead>\n",
       "  <tbody>\n",
       "    <tr>\n",
       "      <th>0</th>\n",
       "      <td>2.0</td>\n",
       "      <td>7.950000</td>\n",
       "      <td>0.000000</td>\n",
       "      <td>0.040901</td>\n",
       "      <td>0</td>\n",
       "      <td>1.446508</td>\n",
       "      <td>0</td>\n",
       "      <td>1</td>\n",
       "      <td>0</td>\n",
       "      <td>0</td>\n",
       "      <td>1000.0</td>\n",
       "      <td>0</td>\n",
       "    </tr>\n",
       "    <tr>\n",
       "      <th>1</th>\n",
       "      <td>0.0</td>\n",
       "      <td>0.000000</td>\n",
       "      <td>536.912124</td>\n",
       "      <td>0.457495</td>\n",
       "      <td>4</td>\n",
       "      <td>3.826241</td>\n",
       "      <td>0</td>\n",
       "      <td>0</td>\n",
       "      <td>0</td>\n",
       "      <td>1</td>\n",
       "      <td>7000.0</td>\n",
       "      <td>1</td>\n",
       "    </tr>\n",
       "    <tr>\n",
       "      <th>2</th>\n",
       "      <td>12.0</td>\n",
       "      <td>64.430833</td>\n",
       "      <td>0.000000</td>\n",
       "      <td>0.332687</td>\n",
       "      <td>0</td>\n",
       "      <td>0.991682</td>\n",
       "      <td>0</td>\n",
       "      <td>0</td>\n",
       "      <td>1</td>\n",
       "      <td>0</td>\n",
       "      <td>7500.0</td>\n",
       "      <td>2</td>\n",
       "    </tr>\n",
       "    <tr>\n",
       "      <th>3</th>\n",
       "      <td>1.0</td>\n",
       "      <td>124.916667</td>\n",
       "      <td>17.149001</td>\n",
       "      <td>0.222223</td>\n",
       "      <td>1</td>\n",
       "      <td>0.000000</td>\n",
       "      <td>0</td>\n",
       "      <td>0</td>\n",
       "      <td>1</td>\n",
       "      <td>0</td>\n",
       "      <td>7500.0</td>\n",
       "      <td>2</td>\n",
       "    </tr>\n",
       "  </tbody>\n",
       "</table>\n",
       "</div>"
      ],
      "text/plain": [
       "   PURCHASES_TRX  Monthly_avg_purchase  Monthly_cash_advance  limit_usage  \\\n",
       "0            2.0              7.950000              0.000000     0.040901   \n",
       "1            0.0              0.000000            536.912124     0.457495   \n",
       "2           12.0             64.430833              0.000000     0.332687   \n",
       "3            1.0            124.916667             17.149001     0.222223   \n",
       "\n",
       "   CASH_ADVANCE_TRX  payment_minpay  both_oneoff_installment  installment  \\\n",
       "0                 0        1.446508                        0            1   \n",
       "1                 4        3.826241                        0            0   \n",
       "2                 0        0.991682                        0            0   \n",
       "3                 1        0.000000                        0            0   \n",
       "\n",
       "   one_off  none  CREDIT_LIMIT  Cluster_4  \n",
       "0        0     0        1000.0          0  \n",
       "1        0     1        7000.0          1  \n",
       "2        1     0        7500.0          2  \n",
       "3        1     0        7500.0          2  "
      ]
     },
     "execution_count": 69,
     "metadata": {},
     "output_type": "execute_result"
    }
   ],
   "source": [
    "c4.head(4)"
   ]
  },
  {
   "cell_type": "code",
   "execution_count": 70,
   "metadata": {},
   "outputs": [
    {
     "data": {
      "text/html": [
       "<div>\n",
       "<style scoped>\n",
       "    .dataframe tbody tr th:only-of-type {\n",
       "        vertical-align: middle;\n",
       "    }\n",
       "\n",
       "    .dataframe tbody tr th {\n",
       "        vertical-align: top;\n",
       "    }\n",
       "\n",
       "    .dataframe thead th {\n",
       "        text-align: right;\n",
       "    }\n",
       "</style>\n",
       "<table border=\"1\" class=\"dataframe\">\n",
       "  <thead>\n",
       "    <tr style=\"text-align: right;\">\n",
       "      <th>Cluster_4</th>\n",
       "      <th>0</th>\n",
       "      <th>1</th>\n",
       "      <th>2</th>\n",
       "      <th>3</th>\n",
       "    </tr>\n",
       "  </thead>\n",
       "  <tbody>\n",
       "    <tr>\n",
       "      <th>PURCHASES_TRX</th>\n",
       "      <td>14.271849</td>\n",
       "      <td>6.565924</td>\n",
       "      <td>3.195785</td>\n",
       "      <td>51.509444</td>\n",
       "    </tr>\n",
       "    <tr>\n",
       "      <th>Monthly_avg_purchase</th>\n",
       "      <td>58.196907</td>\n",
       "      <td>38.295236</td>\n",
       "      <td>26.539309</td>\n",
       "      <td>331.364817</td>\n",
       "    </tr>\n",
       "    <tr>\n",
       "      <th>Monthly_cash_advance</th>\n",
       "      <td>14.961777</td>\n",
       "      <td>407.241078</td>\n",
       "      <td>58.200525</td>\n",
       "      <td>39.289646</td>\n",
       "    </tr>\n",
       "    <tr>\n",
       "      <th>limit_usage</th>\n",
       "      <td>0.254144</td>\n",
       "      <td>0.620480</td>\n",
       "      <td>0.462327</td>\n",
       "      <td>0.305319</td>\n",
       "    </tr>\n",
       "    <tr>\n",
       "      <th>CASH_ADVANCE_TRX</th>\n",
       "      <td>0.641846</td>\n",
       "      <td>13.114484</td>\n",
       "      <td>2.525875</td>\n",
       "      <td>1.585548</td>\n",
       "    </tr>\n",
       "    <tr>\n",
       "      <th>payment_minpay</th>\n",
       "      <td>4.419245</td>\n",
       "      <td>4.067849</td>\n",
       "      <td>4.193721</td>\n",
       "      <td>11.490448</td>\n",
       "    </tr>\n",
       "    <tr>\n",
       "      <th>both_oneoff_installment</th>\n",
       "      <td>0.357538</td>\n",
       "      <td>0.215091</td>\n",
       "      <td>0.081065</td>\n",
       "      <td>0.907807</td>\n",
       "    </tr>\n",
       "    <tr>\n",
       "      <th>installment</th>\n",
       "      <td>0.637231</td>\n",
       "      <td>0.101474</td>\n",
       "      <td>0.016452</td>\n",
       "      <td>0.014120</td>\n",
       "    </tr>\n",
       "    <tr>\n",
       "      <th>one_off</th>\n",
       "      <td>0.005231</td>\n",
       "      <td>0.195143</td>\n",
       "      <td>0.460066</td>\n",
       "      <td>0.078073</td>\n",
       "    </tr>\n",
       "    <tr>\n",
       "      <th>none</th>\n",
       "      <td>0.000000</td>\n",
       "      <td>0.488291</td>\n",
       "      <td>0.442417</td>\n",
       "      <td>0.000000</td>\n",
       "    </tr>\n",
       "    <tr>\n",
       "      <th>CREDIT_LIMIT</th>\n",
       "      <td>3431.998306</td>\n",
       "      <td>7298.876449</td>\n",
       "      <td>3392.790091</td>\n",
       "      <td>7585.450015</td>\n",
       "    </tr>\n",
       "  </tbody>\n",
       "</table>\n",
       "</div>"
      ],
      "text/plain": [
       "Cluster_4                          0            1            2            3\n",
       "PURCHASES_TRX              14.271849     6.565924     3.195785    51.509444\n",
       "Monthly_avg_purchase       58.196907    38.295236    26.539309   331.364817\n",
       "Monthly_cash_advance       14.961777   407.241078    58.200525    39.289646\n",
       "limit_usage                 0.254144     0.620480     0.462327     0.305319\n",
       "CASH_ADVANCE_TRX            0.641846    13.114484     2.525875     1.585548\n",
       "payment_minpay              4.419245     4.067849     4.193721    11.490448\n",
       "both_oneoff_installment     0.357538     0.215091     0.081065     0.907807\n",
       "installment                 0.637231     0.101474     0.016452     0.014120\n",
       "one_off                     0.005231     0.195143     0.460066     0.078073\n",
       "none                        0.000000     0.488291     0.442417     0.000000\n",
       "CREDIT_LIMIT             3431.998306  7298.876449  3392.790091  7585.450015"
      ]
     },
     "execution_count": 70,
     "metadata": {},
     "output_type": "execute_result"
    }
   ],
   "source": [
    "cluster_4 = c4.groupby('Cluster_4').apply(lambda x: x[col_kpi].mean())\n",
    "cluster_4.T"
   ]
  },
  {
   "cell_type": "code",
   "execution_count": 72,
   "metadata": {},
   "outputs": [
    {
     "name": "stdout",
     "output_type": "stream",
     "text": [
      "Cluster_4\n",
      "   Size  Percentage\n",
      "0  3250   36.312849\n",
      "1  1153   12.882682\n",
      "2  3343   37.351955\n",
      "3  1204   13.452514\n"
     ]
    }
   ],
   "source": [
    "s=c4.groupby('Cluster_4').apply(lambda x: x['Cluster_4'].value_counts())\n",
    "\n",
    "p = pd.Series((s.values.astype('float')/ c4.shape[0])*100 , name='Percentage')\n",
    "\n",
    "print (\"Cluster_4\"),'\\n'\n",
    "print (pd.concat([pd.Series(s.values,name='Size') , p],axis=1))"
   ]
  },
  {
   "cell_type": "markdown",
   "metadata": {},
   "source": [
    "Cluster 0 has about 37% of the total customer base, which is second highest \n",
    "and also it has second highest Monthly Average Purchase"
   ]
  },
  {
   "cell_type": "markdown",
   "metadata": {},
   "source": [
    "Cluster 1 has about 12% of the total customer base, which is lowest but it has highest Monthly Cash Advance"
   ]
  },
  {
   "cell_type": "markdown",
   "metadata": {},
   "source": [
    "Cluster 2 has the highest customr base i.e. 38% (approx) it also has second highest Monthly Cash Advance"
   ]
  },
  {
   "cell_type": "markdown",
   "metadata": {},
   "source": [
    "Cluster 3 has about 13% of the total customer base, which is second lowest. It also has the highest Monthly Avergae Purchase"
   ]
  },
  {
   "cell_type": "markdown",
   "metadata": {},
   "source": [
    "## Now finding customer characterstics with 5 clusters "
   ]
  },
  {
   "cell_type": "code",
   "execution_count": 87,
   "metadata": {},
   "outputs": [
    {
     "data": {
      "text/plain": [
       "array([4, 2, 1, ..., 4, 0, 1])"
      ]
     },
     "execution_count": 87,
     "metadata": {},
     "output_type": "execute_result"
    }
   ],
   "source": [
    "km_5=KMeans(n_clusters=5,random_state=123)\n",
    "km_5=km_5.fit(reduced_cr)\n",
    "km_5.labels_"
   ]
  },
  {
   "cell_type": "code",
   "execution_count": 88,
   "metadata": {},
   "outputs": [
    {
     "data": {
      "text/plain": [
       "4    3530\n",
       "0    1808\n",
       "1    1642\n",
       "3    1106\n",
       "2     864\n",
       "dtype: int64"
      ]
     },
     "execution_count": 88,
     "metadata": {},
     "output_type": "execute_result"
    }
   ],
   "source": [
    "pd.Series(km_5.labels_).value_counts()"
   ]
  },
  {
   "cell_type": "code",
   "execution_count": 89,
   "metadata": {},
   "outputs": [],
   "source": [
    "c5 = pd.concat([creditnew[col_kpi],pd.Series(km_5.labels_,name='Cluster_5')],axis=1)"
   ]
  },
  {
   "cell_type": "code",
   "execution_count": 92,
   "metadata": {},
   "outputs": [],
   "source": [
    "Cluster_5 = c5.groupby('Cluster_5').apply(lambda x: x[col_kpi].mean())"
   ]
  },
  {
   "cell_type": "code",
   "execution_count": 93,
   "metadata": {},
   "outputs": [
    {
     "data": {
      "text/html": [
       "<div>\n",
       "<style scoped>\n",
       "    .dataframe tbody tr th:only-of-type {\n",
       "        vertical-align: middle;\n",
       "    }\n",
       "\n",
       "    .dataframe tbody tr th {\n",
       "        vertical-align: top;\n",
       "    }\n",
       "\n",
       "    .dataframe thead th {\n",
       "        text-align: right;\n",
       "    }\n",
       "</style>\n",
       "<table border=\"1\" class=\"dataframe\">\n",
       "  <thead>\n",
       "    <tr style=\"text-align: right;\">\n",
       "      <th>Cluster_5</th>\n",
       "      <th>0</th>\n",
       "      <th>1</th>\n",
       "      <th>2</th>\n",
       "      <th>3</th>\n",
       "      <th>4</th>\n",
       "    </tr>\n",
       "  </thead>\n",
       "  <tbody>\n",
       "    <tr>\n",
       "      <th>PURCHASES_TRX</th>\n",
       "      <td>0.268805</td>\n",
       "      <td>6.006401</td>\n",
       "      <td>8.373275</td>\n",
       "      <td>53.658562</td>\n",
       "      <td>14.086547</td>\n",
       "    </tr>\n",
       "    <tr>\n",
       "      <th>Monthly_avg_purchase</th>\n",
       "      <td>1.375922</td>\n",
       "      <td>54.105248</td>\n",
       "      <td>48.186803</td>\n",
       "      <td>343.734175</td>\n",
       "      <td>58.880064</td>\n",
       "    </tr>\n",
       "    <tr>\n",
       "      <th>Monthly_cash_advance</th>\n",
       "      <td>110.299731</td>\n",
       "      <td>34.483955</td>\n",
       "      <td>464.168757</td>\n",
       "      <td>39.424648</td>\n",
       "      <td>16.814106</td>\n",
       "    </tr>\n",
       "    <tr>\n",
       "      <th>limit_usage</th>\n",
       "      <td>0.566182</td>\n",
       "      <td>0.354358</td>\n",
       "      <td>0.622098</td>\n",
       "      <td>0.308166</td>\n",
       "      <td>0.274987</td>\n",
       "    </tr>\n",
       "    <tr>\n",
       "      <th>CASH_ADVANCE_TRX</th>\n",
       "      <td>4.584071</td>\n",
       "      <td>1.511571</td>\n",
       "      <td>14.363426</td>\n",
       "      <td>1.581374</td>\n",
       "      <td>0.745326</td>\n",
       "    </tr>\n",
       "    <tr>\n",
       "      <th>payment_minpay</th>\n",
       "      <td>3.972847</td>\n",
       "      <td>4.730806</td>\n",
       "      <td>4.273249</td>\n",
       "      <td>11.765975</td>\n",
       "      <td>4.320323</td>\n",
       "    </tr>\n",
       "    <tr>\n",
       "      <th>both_oneoff_installment</th>\n",
       "      <td>0.033739</td>\n",
       "      <td>0.017052</td>\n",
       "      <td>0.273148</td>\n",
       "      <td>0.928571</td>\n",
       "      <td>0.402833</td>\n",
       "    </tr>\n",
       "    <tr>\n",
       "      <th>installment</th>\n",
       "      <td>0.017146</td>\n",
       "      <td>0.000000</td>\n",
       "      <td>0.121528</td>\n",
       "      <td>0.014467</td>\n",
       "      <td>0.597167</td>\n",
       "    </tr>\n",
       "    <tr>\n",
       "      <th>one_off</th>\n",
       "      <td>0.003319</td>\n",
       "      <td>0.982948</td>\n",
       "      <td>0.221065</td>\n",
       "      <td>0.056962</td>\n",
       "      <td>0.000000</td>\n",
       "    </tr>\n",
       "    <tr>\n",
       "      <th>none</th>\n",
       "      <td>0.945796</td>\n",
       "      <td>0.000000</td>\n",
       "      <td>0.384259</td>\n",
       "      <td>0.000000</td>\n",
       "      <td>0.000000</td>\n",
       "    </tr>\n",
       "    <tr>\n",
       "      <th>CREDIT_LIMIT</th>\n",
       "      <td>3226.419617</td>\n",
       "      <td>4087.412062</td>\n",
       "      <td>7883.801557</td>\n",
       "      <td>7693.264014</td>\n",
       "      <td>3450.234083</td>\n",
       "    </tr>\n",
       "  </tbody>\n",
       "</table>\n",
       "</div>"
      ],
      "text/plain": [
       "Cluster_5                          0            1            2            3  \\\n",
       "PURCHASES_TRX               0.268805     6.006401     8.373275    53.658562   \n",
       "Monthly_avg_purchase        1.375922    54.105248    48.186803   343.734175   \n",
       "Monthly_cash_advance      110.299731    34.483955   464.168757    39.424648   \n",
       "limit_usage                 0.566182     0.354358     0.622098     0.308166   \n",
       "CASH_ADVANCE_TRX            4.584071     1.511571    14.363426     1.581374   \n",
       "payment_minpay              3.972847     4.730806     4.273249    11.765975   \n",
       "both_oneoff_installment     0.033739     0.017052     0.273148     0.928571   \n",
       "installment                 0.017146     0.000000     0.121528     0.014467   \n",
       "one_off                     0.003319     0.982948     0.221065     0.056962   \n",
       "none                        0.945796     0.000000     0.384259     0.000000   \n",
       "CREDIT_LIMIT             3226.419617  4087.412062  7883.801557  7693.264014   \n",
       "\n",
       "Cluster_5                          4  \n",
       "PURCHASES_TRX              14.086547  \n",
       "Monthly_avg_purchase       58.880064  \n",
       "Monthly_cash_advance       16.814106  \n",
       "limit_usage                 0.274987  \n",
       "CASH_ADVANCE_TRX            0.745326  \n",
       "payment_minpay              4.320323  \n",
       "both_oneoff_installment     0.402833  \n",
       "installment                 0.597167  \n",
       "one_off                     0.000000  \n",
       "none                        0.000000  \n",
       "CREDIT_LIMIT             3450.234083  "
      ]
     },
     "execution_count": 93,
     "metadata": {},
     "output_type": "execute_result"
    }
   ],
   "source": [
    "Cluster_5.T"
   ]
  },
  {
   "cell_type": "code",
   "execution_count": 95,
   "metadata": {},
   "outputs": [
    {
     "name": "stdout",
     "output_type": "stream",
     "text": [
      "Cluster_5\n",
      "   Size  Percentage\n",
      "0  1808   20.201117\n",
      "1  1642   18.346369\n",
      "2   864    9.653631\n",
      "3  1106   12.357542\n",
      "4  3530   39.441341\n"
     ]
    }
   ],
   "source": [
    "s=c5.groupby('Cluster_5').apply(lambda x: x['Cluster_5'].value_counts())\n",
    "\n",
    "p = pd.Series((s.values.astype('float')/ c5.shape[0])*100 , name='Percentage')\n",
    "\n",
    "print (\"Cluster_5\"),'\\n'\n",
    "print (pd.concat([pd.Series(s.values,name='Size') , p],axis=1))"
   ]
  },
  {
   "cell_type": "markdown",
   "metadata": {},
   "source": [
    "Cluster 0 has around 20% of total customer base, which is second highest & also has highest Monthly Cash Advance"
   ]
  },
  {
   "cell_type": "markdown",
   "metadata": {},
   "source": [
    "Cluster 1 has about 18% of total Customr base, which is third highest & also has the third highest Credit Limit it has almost negligible Monthly Average Purchase"
   ]
  },
  {
   "cell_type": "markdown",
   "metadata": {},
   "source": [
    "Cluster 2 has the lowest Customer base i.e. around 9.6% but it has the highest Monthly Cash Advance & highest Credit Limit too"
   ]
  },
  {
   "cell_type": "markdown",
   "metadata": {},
   "source": [
    "Cluster 3 has the second lowest of total customer base & also has the Monthly Average Purchase & Second Highest Credit Limit"
   ]
  },
  {
   "cell_type": "markdown",
   "metadata": {},
   "source": [
    "Cluster 4 has the highest 40% of the total customer base & also second highest Monthly Average Purchase"
   ]
  },
  {
   "cell_type": "markdown",
   "metadata": {},
   "source": [
    "## 6"
   ]
  },
  {
   "cell_type": "code",
   "execution_count": 101,
   "metadata": {},
   "outputs": [
    {
     "data": {
      "text/plain": [
       "array([4, 0, 1, ..., 4, 5, 1])"
      ]
     },
     "execution_count": 101,
     "metadata": {},
     "output_type": "execute_result"
    }
   ],
   "source": [
    "km_6=KMeans(n_clusters=6,random_state=123)\n",
    "km_6=km_6.fit(reduced_cr)\n",
    "km_6.labels_"
   ]
  },
  {
   "cell_type": "code",
   "execution_count": 102,
   "metadata": {},
   "outputs": [],
   "source": [
    "c6 = pd.concat([creditnew[col_kpi],pd.Series(km_6.labels_,name='Cluster_6')],axis=1)"
   ]
  },
  {
   "cell_type": "code",
   "execution_count": 103,
   "metadata": {},
   "outputs": [],
   "source": [
    "Cluster_6 = c6.groupby('Cluster_6').apply(lambda x: x[col_kpi].mean())"
   ]
  },
  {
   "cell_type": "code",
   "execution_count": 104,
   "metadata": {},
   "outputs": [
    {
     "data": {
      "text/html": [
       "<div>\n",
       "<style scoped>\n",
       "    .dataframe tbody tr th:only-of-type {\n",
       "        vertical-align: middle;\n",
       "    }\n",
       "\n",
       "    .dataframe tbody tr th {\n",
       "        vertical-align: top;\n",
       "    }\n",
       "\n",
       "    .dataframe thead th {\n",
       "        text-align: right;\n",
       "    }\n",
       "</style>\n",
       "<table border=\"1\" class=\"dataframe\">\n",
       "  <thead>\n",
       "    <tr style=\"text-align: right;\">\n",
       "      <th>Cluster_6</th>\n",
       "      <th>0</th>\n",
       "      <th>1</th>\n",
       "      <th>2</th>\n",
       "      <th>3</th>\n",
       "      <th>4</th>\n",
       "      <th>5</th>\n",
       "    </tr>\n",
       "  </thead>\n",
       "  <tbody>\n",
       "    <tr>\n",
       "      <th>PURCHASES_TRX</th>\n",
       "      <td>8.206521</td>\n",
       "      <td>6.075472</td>\n",
       "      <td>24.228630</td>\n",
       "      <td>66.181315</td>\n",
       "      <td>11.350168</td>\n",
       "      <td>0.158837</td>\n",
       "    </tr>\n",
       "    <tr>\n",
       "      <th>Monthly_avg_purchase</th>\n",
       "      <td>48.038131</td>\n",
       "      <td>54.938476</td>\n",
       "      <td>117.305551</td>\n",
       "      <td>465.067767</td>\n",
       "      <td>43.299294</td>\n",
       "      <td>0.624413</td>\n",
       "    </tr>\n",
       "    <tr>\n",
       "      <th>Monthly_cash_advance</th>\n",
       "      <td>470.097506</td>\n",
       "      <td>33.725211</td>\n",
       "      <td>26.671062</td>\n",
       "      <td>47.717545</td>\n",
       "      <td>14.584563</td>\n",
       "      <td>109.848045</td>\n",
       "    </tr>\n",
       "    <tr>\n",
       "      <th>limit_usage</th>\n",
       "      <td>0.623819</td>\n",
       "      <td>0.345845</td>\n",
       "      <td>0.338932</td>\n",
       "      <td>0.324684</td>\n",
       "      <td>0.233006</td>\n",
       "      <td>0.565300</td>\n",
       "    </tr>\n",
       "    <tr>\n",
       "      <th>CASH_ADVANCE_TRX</th>\n",
       "      <td>14.392899</td>\n",
       "      <td>1.481660</td>\n",
       "      <td>1.385573</td>\n",
       "      <td>1.757785</td>\n",
       "      <td>0.513727</td>\n",
       "      <td>4.554810</td>\n",
       "    </tr>\n",
       "    <tr>\n",
       "      <th>payment_minpay</th>\n",
       "      <td>4.286948</td>\n",
       "      <td>4.827218</td>\n",
       "      <td>5.530187</td>\n",
       "      <td>14.806084</td>\n",
       "      <td>4.161083</td>\n",
       "      <td>3.970916</td>\n",
       "    </tr>\n",
       "    <tr>\n",
       "      <th>both_oneoff_installment</th>\n",
       "      <td>0.254438</td>\n",
       "      <td>0.022249</td>\n",
       "      <td>0.995330</td>\n",
       "      <td>0.892734</td>\n",
       "      <td>0.022336</td>\n",
       "      <td>0.022371</td>\n",
       "    </tr>\n",
       "    <tr>\n",
       "      <th>installment</th>\n",
       "      <td>0.126627</td>\n",
       "      <td>0.000000</td>\n",
       "      <td>0.003114</td>\n",
       "      <td>0.024221</td>\n",
       "      <td>0.977664</td>\n",
       "      <td>0.017897</td>\n",
       "    </tr>\n",
       "    <tr>\n",
       "      <th>one_off</th>\n",
       "      <td>0.226036</td>\n",
       "      <td>0.977751</td>\n",
       "      <td>0.001557</td>\n",
       "      <td>0.083045</td>\n",
       "      <td>0.000000</td>\n",
       "      <td>0.003356</td>\n",
       "    </tr>\n",
       "    <tr>\n",
       "      <th>none</th>\n",
       "      <td>0.392899</td>\n",
       "      <td>0.000000</td>\n",
       "      <td>0.000000</td>\n",
       "      <td>0.000000</td>\n",
       "      <td>0.000000</td>\n",
       "      <td>0.956376</td>\n",
       "    </tr>\n",
       "    <tr>\n",
       "      <th>CREDIT_LIMIT</th>\n",
       "      <td>7946.987628</td>\n",
       "      <td>4075.755025</td>\n",
       "      <td>4695.118282</td>\n",
       "      <td>8881.141869</td>\n",
       "      <td>3080.355227</td>\n",
       "      <td>3216.396346</td>\n",
       "    </tr>\n",
       "  </tbody>\n",
       "</table>\n",
       "</div>"
      ],
      "text/plain": [
       "Cluster_6                          0            1            2            3  \\\n",
       "PURCHASES_TRX               8.206521     6.075472    24.228630    66.181315   \n",
       "Monthly_avg_purchase       48.038131    54.938476   117.305551   465.067767   \n",
       "Monthly_cash_advance      470.097506    33.725211    26.671062    47.717545   \n",
       "limit_usage                 0.623819     0.345845     0.338932     0.324684   \n",
       "CASH_ADVANCE_TRX           14.392899     1.481660     1.385573     1.757785   \n",
       "payment_minpay              4.286948     4.827218     5.530187    14.806084   \n",
       "both_oneoff_installment     0.254438     0.022249     0.995330     0.892734   \n",
       "installment                 0.126627     0.000000     0.003114     0.024221   \n",
       "one_off                     0.226036     0.977751     0.001557     0.083045   \n",
       "none                        0.392899     0.000000     0.000000     0.000000   \n",
       "CREDIT_LIMIT             7946.987628  4075.755025  4695.118282  8881.141869   \n",
       "\n",
       "Cluster_6                          4            5  \n",
       "PURCHASES_TRX              11.350168     0.158837  \n",
       "Monthly_avg_purchase       43.299294     0.624413  \n",
       "Monthly_cash_advance       14.584563   109.848045  \n",
       "limit_usage                 0.233006     0.565300  \n",
       "CASH_ADVANCE_TRX            0.513727     4.554810  \n",
       "payment_minpay              4.161083     3.970916  \n",
       "both_oneoff_installment     0.022336     0.022371  \n",
       "installment                 0.977664     0.017897  \n",
       "one_off                     0.000000     0.003356  \n",
       "none                        0.000000     0.956376  \n",
       "CREDIT_LIMIT             3080.355227  3216.396346  "
      ]
     },
     "execution_count": 104,
     "metadata": {},
     "output_type": "execute_result"
    }
   ],
   "source": [
    "Cluster_6.T"
   ]
  },
  {
   "cell_type": "code",
   "execution_count": 105,
   "metadata": {},
   "outputs": [
    {
     "name": "stdout",
     "output_type": "stream",
     "text": [
      "Cluster_6\n",
      "   Size  Percentage\n",
      "0   845    9.441341\n",
      "1  1663   18.581006\n",
      "2  1927   21.530726\n",
      "3   578    6.458101\n",
      "4  2149   24.011173\n",
      "5  1788   19.977654\n"
     ]
    }
   ],
   "source": [
    "s=c6.groupby('Cluster_6').apply(lambda x: x['Cluster_6'].value_counts())\n",
    "\n",
    "p = pd.Series((s.values.astype('float')/ c6.shape[0])*100 , name='Percentage')\n",
    "\n",
    "print (\"Cluster_6\"),'\\n'\n",
    "print (pd.concat([pd.Series(s.values,name='Size') , p],axis=1))"
   ]
  },
  {
   "cell_type": "markdown",
   "metadata": {},
   "source": [
    "Cluster 0 has second lowest of total customer base, highset monthly cash advance too"
   ]
  },
  {
   "cell_type": "markdown",
   "metadata": {},
   "source": [
    "Cluster 1 has 18% of total customer base"
   ]
  },
  {
   "cell_type": "markdown",
   "metadata": {},
   "source": [
    "Cluster 2 has second highest of total customer base, second highset monthly avg purchase too"
   ]
  },
  {
   "cell_type": "markdown",
   "metadata": {},
   "source": [
    "Cluster 3 has lowest of total customer base, highest monthly avg purchase"
   ]
  },
  {
   "cell_type": "markdown",
   "metadata": {},
   "source": [
    "Cluster 4 has highest of total customer base but lowest cash advance"
   ]
  },
  {
   "cell_type": "markdown",
   "metadata": {},
   "source": [
    "Cluster 5 has around 20% of customer base & second highest monthly cash advance"
   ]
  },
  {
   "cell_type": "markdown",
   "metadata": {},
   "source": [
    "## K Means with 4 clusters seems to be best in terms of well distributed & it is also giving more insghts. This is why 4 clusters are most appropriate"
   ]
  }
 ],
 "metadata": {
  "kernelspec": {
   "display_name": "Python 3",
   "language": "python",
   "name": "python3"
  },
  "language_info": {
   "codemirror_mode": {
    "name": "ipython",
    "version": 3
   },
   "file_extension": ".py",
   "mimetype": "text/x-python",
   "name": "python",
   "nbconvert_exporter": "python",
   "pygments_lexer": "ipython3",
   "version": "3.7.3"
  }
 },
 "nbformat": 4,
 "nbformat_minor": 2
}
